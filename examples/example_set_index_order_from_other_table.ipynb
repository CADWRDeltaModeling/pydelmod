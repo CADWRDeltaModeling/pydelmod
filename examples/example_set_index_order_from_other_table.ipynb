{
 "cells": [
  {
   "cell_type": "markdown",
   "id": "41d17e37",
   "metadata": {},
   "source": [
    "# Example to set index order from another data frame\n",
    "\n",
    "We load the summary stats and then set index similar to the 'Location' column in calibrationHeatMapStationOrderCombined.csv\n",
    "\n",
    "Then select only the indices available in the summary table and in the order defined by the ordercombined.csv table"
   ]
  },
  {
   "cell_type": "code",
   "execution_count": null,
   "id": "5a6bb711",
   "metadata": {},
   "outputs": [],
   "source": [
    "import pandas as pd\n",
    "import pydelmod\n",
    "from pydelmod.calib_heatmap import heatmap_for_metric, read_summary_stats"
   ]
  },
  {
   "cell_type": "code",
   "execution_count": null,
   "id": "600243cf",
   "metadata": {},
   "outputs": [],
   "source": [
    "location_info_dir='//cnrastore-bdo/Delta_Mod/Share/DSM2/full_calibration_8_3/delta/dsm2v8.3/postprocessing/location_info/'\n",
    "# \n",
    "study_dir='//cnrastore-bdo/Delta_Mod/Share/DSM2/full_calibration_8_3/delta/dsm2v8.3/studies'\n",
    "run_id='run21' # the name of the directory under studies"
   ]
  },
  {
   "cell_type": "code",
   "execution_count": null,
   "id": "088a8a48",
   "metadata": {},
   "outputs": [],
   "source": [
    "var_type='FLOW'\n",
    "fname = f'{study_dir}/{run_id}/postprocessing/plots/1_summary_statistics_all_{var_type}.csv'"
   ]
  },
  {
   "cell_type": "code",
   "execution_count": null,
   "id": "eb478fef",
   "metadata": {},
   "outputs": [],
   "source": [
    "df = pd.read_csv(fname)\n",
    "dfp = df.pivot('Location', columns='DSM2 Run')\n",
    "names = dfp.index.to_series().str.split('name=', expand=True).iloc[:, 1].str.split(\n",
    "    ',', expand=True).iloc[:, 0].str.replace(\"'\", \"\").values"
   ]
  },
  {
   "cell_type": "code",
   "execution_count": null,
   "id": "66bd8752",
   "metadata": {},
   "outputs": [],
   "source": [
    "names = dfp.index.to_series().str.split('name=', expand=True).iloc[:,1].str.split(',',expand=True).iloc[:, 0].str.replace(\"'\", \"\").values"
   ]
  },
  {
   "cell_type": "code",
   "execution_count": null,
   "id": "bee5dd15",
   "metadata": {},
   "outputs": [],
   "source": [
    "bparts=dfp.index.to_series().str.split('bpart=', expand=True).iloc[:,1].str.split(',',expand=True).iloc[:, 0].str.replace(\"'\", \"\").values"
   ]
  },
  {
   "cell_type": "code",
   "execution_count": null,
   "id": "fe4d61c4",
   "metadata": {},
   "outputs": [],
   "source": [
    "dfp['Location']=names+'/'+bparts"
   ]
  },
  {
   "cell_type": "code",
   "execution_count": null,
   "id": "71ddc59a",
   "metadata": {},
   "outputs": [],
   "source": [
    "#dfp['names'] = names\n",
    "#dfp = dfp.set_index('names')\n",
    "dfp = dfp.set_index('Location')\n",
    "dfp.head()"
   ]
  },
  {
   "cell_type": "code",
   "execution_count": null,
   "id": "3a4919bd",
   "metadata": {},
   "outputs": [],
   "source": [
    "dfo = pd.read_csv('location_info/calibrationHeatMapStationOrderCombined.csv')"
   ]
  },
  {
   "cell_type": "code",
   "execution_count": null,
   "id": "ff3a2916",
   "metadata": {},
   "outputs": [],
   "source": [
    "dfo=dfo.set_index('Location')"
   ]
  },
  {
   "cell_type": "code",
   "execution_count": null,
   "id": "c23d4b82",
   "metadata": {},
   "outputs": [],
   "source": [
    "dfp.index"
   ]
  },
  {
   "cell_type": "code",
   "execution_count": null,
   "id": "488d430d",
   "metadata": {},
   "outputs": [],
   "source": [
    "import hvplot.pandas"
   ]
  },
  {
   "cell_type": "code",
   "execution_count": null,
   "id": "5b2d72ec",
   "metadata": {},
   "outputs": [],
   "source": [
    "dfo.index"
   ]
  },
  {
   "cell_type": "code",
   "execution_count": null,
   "id": "f1137874",
   "metadata": {},
   "outputs": [],
   "source": [
    "dfp_ordered = dfp.loc[dfo.index.intersection(dfp.index),:]"
   ]
  },
  {
   "cell_type": "code",
   "execution_count": null,
   "id": "9e98a3ba",
   "metadata": {},
   "outputs": [],
   "source": [
    "heatmap_for_metric(dfp_ordered, 'NRMSE', 'FLOW').opts(invert_yaxis=True,height=800)"
   ]
  },
  {
   "cell_type": "code",
   "execution_count": null,
   "id": "f622f434",
   "metadata": {},
   "outputs": [],
   "source": []
  }
 ],
 "metadata": {
  "kernelspec": {
   "display_name": "Python [conda env:dev_pydelmod]",
   "language": "python",
   "name": "conda-env-dev_pydelmod-py"
  },
  "language_info": {
   "codemirror_mode": {
    "name": "ipython",
    "version": 3
   },
   "file_extension": ".py",
   "mimetype": "text/x-python",
   "name": "python",
   "nbconvert_exporter": "python",
   "pygments_lexer": "ipython3",
   "version": "3.7.13"
  },
  "toc": {
   "base_numbering": 1,
   "nav_menu": {},
   "number_sections": true,
   "sideBar": true,
   "skip_h1_title": false,
   "title_cell": "Table of Contents",
   "title_sidebar": "Contents",
   "toc_cell": false,
   "toc_position": {},
   "toc_section_display": true,
   "toc_window_display": false
  }
 },
 "nbformat": 4,
 "nbformat_minor": 5
}
