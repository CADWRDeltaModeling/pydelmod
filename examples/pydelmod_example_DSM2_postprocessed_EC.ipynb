{
 "cells": [
  {
   "cell_type": "markdown",
   "metadata": {},
   "source": [
    "# Pydelmod example Notebook to post-processed DSM2 output data\n",
    "\n",
    "This is an example pydelmod Notebook.\n",
    "\n",
    "The data used are __hypothetical__. DSS files can be found in the release page. Place them under scenarios directory.\n",
    "\n",
    "Create a Python virtual environment using 'environment.yaml' in the repository to install prerequisites."
   ]
  },
  {
   "cell_type": "code",
   "execution_count": null,
   "metadata": {},
   "outputs": [],
   "source": [
    "%load_ext autoreload"
   ]
  },
  {
   "cell_type": "markdown",
   "metadata": {},
   "source": [
    "# Setting up"
   ]
  },
  {
   "cell_type": "markdown",
   "metadata": {},
   "source": [
    "## Import modules\n",
    "Import Pandas, plotly, and pydelmod. You might see some FutureWarnings."
   ]
  },
  {
   "cell_type": "code",
   "execution_count": null,
   "metadata": {},
   "outputs": [],
   "source": [
    "import pandas as pd\n",
    "import plotly.offline as py\n",
    "py.init_notebook_mode(connected=True)\n",
    "\n",
    "import pydelmod.utilities as pdmu\n",
    "import pydelmod.nbplot as pdmn"
   ]
  },
  {
   "cell_type": "markdown",
   "metadata": {},
   "source": [
    "## Read in stations to review\n",
    "A list of stations IDs and long names to review are read in."
   ]
  },
  {
   "cell_type": "code",
   "execution_count": null,
   "metadata": {},
   "outputs": [],
   "source": [
    "# Read output locations\n",
    "fpath_output_locations = \"scenarios/DSM2_output_locations_ec.csv\"\n",
    "df_stations = pd.read_csv(fpath_output_locations, comment='#')\n",
    "df_stations['ID'] = [x.upper() for x in df_stations['ID']]\n",
    "station_ids = df_stations['ID'].values"
   ]
  },
  {
   "cell_type": "markdown",
   "metadata": {},
   "source": [
    "## Read post-processed DSM2 EC data in DSS"
   ]
  },
  {
   "cell_type": "code",
   "execution_count": null,
   "metadata": {},
   "outputs": [],
   "source": [
    "# Read in data from DSS files\n",
    "scenarios = [{'name': 'H3', 'fpath': \"scenarios/H3/bdcp_h3_slr15_out_ec_PostPro.DSS\"},\n",
    "             {'name': 'H4', 'fpath': \"scenarios/H4/bdcp_h4_slr15_out_ec_PostPro.DSS\"}]\n",
    "stations_to_read = df_stations['ID'].values\n",
    "\n",
    "# Read only 'EC-MEAN'\n",
    "variables_to_read = ['EC-MEAN', ]\n",
    "intervals_to_read = None\n",
    "dfs = []\n",
    "for scenario in scenarios:\n",
    "    fpath = scenario['fpath']\n",
    "    name = scenario['name']\n",
    "    df = pdmu.read_dss_to_df(fpath, bparts_to_read=stations_to_read,\n",
    "                             cparts_to_read=variables_to_read, eparts_to_read=intervals_to_read)\n",
    "    df['scenario_name'] = name\n",
    "    dfs.append(df)"
   ]
  },
  {
   "cell_type": "markdown",
   "metadata": {},
   "source": [
    "### Extract information from DSS pathnames and store into DataFrame columns\n",
    "This could take some time depending on the size of the data."
   ]
  },
  {
   "cell_type": "code",
   "execution_count": null,
   "metadata": {},
   "outputs": [],
   "source": [
    "df_ec = pd.concat(dfs)\n",
    "ds_parts = df_ec['pathname'].map(lambda x: (x.split('/')))\n",
    "df_ec = df_ec.assign(station=ds_parts.map(lambda x: x[2]),\n",
    "                     variable=ds_parts.map(lambda x: x[3]),\n",
    "                     interval=ds_parts.map(lambda x: x[5]),\n",
    "                     year=lambda x: x['time'].map(lambda y: y.year),\n",
    "                     month=lambda x: x['time'].map(lambda y: y.month))"
   ]
  },
  {
   "cell_type": "code",
   "execution_count": null,
   "metadata": {},
   "outputs": [],
   "source": [
    "# Add a wateryear type column\n",
    "df_ec = df_ec.assign(wateryear=lambda x: x['year'])\n",
    "mask = df_ec['month'] > 9\n",
    "df_ec.loc[mask, 'wateryear'] += 1"
   ]
  },
  {
   "cell_type": "markdown",
   "metadata": {},
   "source": [
    "## Read water year types from a CSV file\n",
    "The CSV file is a dump from http://cdec.water.ca.gov/reportapp/javareports?name=WSIHIST."
   ]
  },
  {
   "cell_type": "code",
   "execution_count": null,
   "metadata": {},
   "outputs": [],
   "source": [
    "# Read water year types and join\n",
    "df_wyt = pdmu.read_hist_wateryear_types('scenarios/wy_types.txt')\n",
    "df_ec = df_ec.join(df_wyt.set_index('wy')['sac_yrtype'], on='wateryear')"
   ]
  },
  {
   "cell_type": "markdown",
   "metadata": {},
   "source": [
    "## Choose the time period to review"
   ]
  },
  {
   "cell_type": "code",
   "execution_count": null,
   "metadata": {},
   "outputs": [],
   "source": [
    "df_ec = df_ec[df_ec['time'] > '1974-12-31']"
   ]
  },
  {
   "cell_type": "code",
   "execution_count": null,
   "metadata": {},
   "outputs": [],
   "source": [
    "# Create two dataframes for 1-Day and 1-MON interval data\n",
    "df_1day = df_ec[df_ec['interval'] == '1DAY']\n",
    "df_1mon = df_ec[df_ec['interval'] == '1MON']"
   ]
  },
  {
   "cell_type": "markdown",
   "metadata": {},
   "source": [
    "# EC line plot\n",
    "\n",
    "The plot below shows an interactive daily EC changes. You can pick a variable and station to review in the selection boxes below the plot.\n",
    "\n",
    "- Placing a cursor on the curves will show values.\n",
    "- You will see a toolbar at the top right corner of the plot when you move your cursor into the plot. You can zoom in and out, reset the zoom, export the plot, etc. by selecting one of the tools.\n",
    "- You can zoom in and out by dragging the edges and corners of the plot as well.\n",
    "- Clicking 'Show Data' button will show the actual data used for the plot in a tabular format. You can filter data to investigate the raw data. Click the button one more will hide the table.\n",
    "- Clicking 'Save data' will export the data into 'export.csv' in the current directory where this script resides.\n",
    "- Clicking 'Export Plots' will export plots of all the stations in the station list. The output format is PNG, and the name of the files will be the PREFIX_STATIONID.png using the PREFIX in the box next to the button. Depending on the number of stations and the size of the data, this could take some time. At the end of the exporting, it will generate a text file, PREFIX_description.csv, containing the list of the plot filenames and station names."
   ]
  },
  {
   "cell_type": "code",
   "execution_count": null,
   "metadata": {},
   "outputs": [],
   "source": [
    "pdmn.plot_step_w_variable_station_filters(df_1day, df_stations)"
   ]
  },
  {
   "cell_type": "markdown",
   "metadata": {},
   "source": [
    "# Montly EC bar plots\n",
    "The plot below shows an interactive monthly avergade EC values. It averages data monthly on the fly. You can pick a variable and station to review in the selection boxes below the plot. There are five wateryear type filter toggle buttons below the plot: Only selected wateryears by the buttons will be included for the plot.\n",
    "\n",
    "- Placing a cursor on the curves will show values.\n",
    "- You will see a toolbar at the top right corner of the plot when you move your cursor into the plot. You can zoom in and out, reset the zoom, export the plot, etc. by selecting one of the tools.\n",
    "- Clicking 'Show Data' button will show the actual data used in the plot in a tabular format. You can filter data to investigate the raw data. Click the button one more will hide the table.\n",
    "- Clicking 'Save data' will export the data into 'export.csv' in the current directory where this script resides.\n",
    "- Clicking 'Export Plots' will export plots of all the stations in the station list. The output format is PNG, and the name of the files will be the PREFIX_STATIONID.png using the PREFIX in the box next to the button. Depending on the number of stations and the size of the data, this could take some time. At the end of the exporting, it will generate a text file, PREFIX_description.csv, containing the list of the plot filenames and station names."
   ]
  },
  {
   "cell_type": "code",
   "execution_count": null,
   "metadata": {},
   "outputs": [],
   "source": [
    "options = {'yaxis': 'EC (micromhos)', 'title': 'EC Means by Months', 'use_wateryear': True}\n",
    "pdmn.plot_bar_monthly_w_controls(df_1day, df_stations, options)"
   ]
  },
  {
   "cell_type": "markdown",
   "metadata": {},
   "source": [
    "# EC Exceedance curve\n",
    "The plot below shows an interactive exceedance curve of EC. You can pick a variable and station to review in the selection boxes below the plot. There are five wateryear type filter toggle buttons below the plot: Only selected wateryears by the buttons will be included for the plot. There are month toggle buttons, which works the same ways as the wateryear type buttons.\n",
    "\n",
    "- Placing a cursor on the curves will show values.\n",
    "- You will see a toolbar at the top right corner of the plot when you move your cursor into the plot. You can zoom in and out, reset the zoom, export the plot, etc. by selecting one of the tools.\n",
    "- Clicking 'Show Data' button will show the actual data used in the plot in a tabular format. You can filter data to investigate the raw data. Click the button one more will hide the table.\n",
    "- Clicking 'Save data' will export the data into 'export.csv' in the current directory where this script resides.\n",
    "- Clicking 'Export Plots' will export plots of all the stations in the station list. The output format is PNG, and the name of the files will be the PREFIX_STATIONID.png using the PREFIX in the box next to the button. Depending on the number of stations and the size of the data, this could take some time. At the end of the exporting, it will generate a text file, PREFIX_description.csv, containing the list of the plot filenames and station names.m"
   ]
  },
  {
   "cell_type": "code",
   "execution_count": null,
   "metadata": {},
   "outputs": [],
   "source": [
    "pdmn.plot_exceedance_w_variable_station_filters(df_1day, df_stations)"
   ]
  },
  {
   "cell_type": "markdown",
   "metadata": {},
   "source": [
    "# EC Boxplot\n",
    "The plot below shows an interactive boxplots of EC. You can pick a variable and station to review in the selection boxes below the plot. There are five wateryear type filter toggle buttons below the plot: Only selected wateryears by the buttons will be included for the plot. There are month toggle buttons, which works the same ways as the wateryear type buttons.\n",
    "\n",
    "- Placing a cursor on the curves will show values and statistics such as quantiles.\n",
    "- You will see a toolbar at the top right corner of the plot when you move your cursor into the plot. You can zoom in and out, reset the zoom, export the plot, etc. by selecting one of the tools.\n",
    "- Clicking 'Show Data' button will show the actual data used in the plot in a tabular format. You can filter data to investigate the raw data. Click the button one more will hide the table.\n",
    "- Clicking 'Save data' will export the data into 'export.csv' in the current directory where this script resides.\n",
    "- Clicking 'Export Plots' will export plots of all the stations in the station list. The output format is PNG, and the name of the files will be the PREFIX_STATIONID.png using the PREFIX in the box next to the button. Depending on the number of stations and the size of the data, this could take some time. At the end of the exporting, it will generate a text file, PREFIX_description.csv, containing the list of the plot filenames and station names."
   ]
  },
  {
   "cell_type": "code",
   "execution_count": null,
   "metadata": {},
   "outputs": [],
   "source": [
    "pdmn.plot_box_w_variable_station_filters(df_ec, df_stations)"
   ]
  },
  {
   "cell_type": "markdown",
   "metadata": {},
   "source": [
    "# EC analysis with D1641 Ag standards"
   ]
  },
  {
   "cell_type": "markdown",
   "metadata": {},
   "source": [
    "## Read in D1641 Agriculture standards\n",
    "Following codes read in D1641 water quality objetives for agricultural beneficial uses: https://www.waterboards.ca.gov/waterrights/board_decisions/adopted_orders/decisions/d1600_d1649/wrd1641_1999dec29.pdf"
   ]
  },
  {
   "cell_type": "code",
   "execution_count": null,
   "metadata": {},
   "outputs": [],
   "source": [
    "fpath_d1641_ag = './scenarios/D1641_AG_Standards.csv'\n",
    "df_reg = pdmu.read_regulations(fpath_d1641_ag, df_wyt)\n",
    "df_reg['value'] = df_reg['value'] * 1000.  # Convert milli to micro"
   ]
  },
  {
   "cell_type": "code",
   "execution_count": null,
   "metadata": {},
   "outputs": [],
   "source": [
    "df_stations_reg = df_stations[df_stations['ID'].isin(df_reg['location'].unique())]"
   ]
  },
  {
   "cell_type": "code",
   "execution_count": null,
   "metadata": {},
   "outputs": [],
   "source": [
    "# Get the time range from the data set\n",
    "df_reg_ts = pdmu.generate_regulation_timeseries(df_reg, df, freq='D')\n",
    "df_reg_ts['variable'] = 'EC-MEAN-14DAY'\n",
    "regulation_name = 'D1641 AG'\n",
    "df_reg_ts['scenario_name'] = 'D1641 AG'"
   ]
  },
  {
   "cell_type": "code",
   "execution_count": null,
   "metadata": {},
   "outputs": [],
   "source": [
    "df = df_1day[df_1day['variable'] == 'EC-MEAN']"
   ]
  },
  {
   "cell_type": "markdown",
   "metadata": {},
   "source": [
    "## EC time series with Ag standards\n",
    "Similarly to the other plots above, you can choose stations, show and export values and plots, and zoom in and out the plot, etc."
   ]
  },
  {
   "cell_type": "code",
   "execution_count": null,
   "metadata": {},
   "outputs": [],
   "source": [
    "pdmn.plot_step_w_regulation(df, df_reg_ts, df_stations_reg)"
   ]
  },
  {
   "cell_type": "markdown",
   "metadata": {},
   "source": [
    "## EC exceedance and statistics for D1641 Ag standards\n",
    "The plot shows the exceedance of the EC difference from the D1641 Ag standards. The positive EC difference means that the EC goes over the standard at the station.\n",
    "\n",
    "The plot also shows a table with statistics."
   ]
  },
  {
   "cell_type": "code",
   "execution_count": null,
   "metadata": {},
   "outputs": [],
   "source": [
    "pdmn.plot_exceedance_w_regulation(df, df_reg_ts, df_stations_reg)"
   ]
  },
  {
   "cell_type": "markdown",
   "metadata": {},
   "source": [
    "# EC analysis with D1641 Fish and Wildlife standards"
   ]
  },
  {
   "cell_type": "markdown",
   "metadata": {},
   "source": [
    "## Read in D1641 Fish and Wildlife standards\n",
    "Following codes read in D1641 water quality objetives for fish and wildlife beneficial uses: https://www.waterboards.ca.gov/waterrights/board_decisions/adopted_orders/decisions/d1600_d1649/wrd1641_1999dec29.pdf"
   ]
  },
  {
   "cell_type": "code",
   "execution_count": null,
   "metadata": {},
   "outputs": [],
   "source": [
    "# read in D1641 FWS standards\n",
    "fpath_d1641_fws = './scenarios/D1641_FWS_Standards.csv'\n",
    "df_reg_fws = pdmu.read_regulations(fpath_d1641_fws, df_wyt)\n",
    "df_reg_fws['value'] = df_reg_fws['value'] * 1000.  # Convert milli to micro"
   ]
  },
  {
   "cell_type": "code",
   "execution_count": null,
   "metadata": {},
   "outputs": [],
   "source": [
    "df_stations_reg_fws = df_stations[df_stations['ID'].isin(df_reg_fws['location'].unique())]"
   ]
  },
  {
   "cell_type": "code",
   "execution_count": null,
   "metadata": {},
   "outputs": [],
   "source": [
    "# Get the time range from the data set\n",
    "df_reg_fws_ts = pdmu.generate_regulation_timeseries(df_reg_fws, df, freq='D')\n",
    "df_reg_fws_ts['variable'] = 'EC-MEAN-14DAY'\n",
    "regulation_name = 'D1641 FWS'\n",
    "df_reg_fws_ts['scenario_name'] = 'D1641 FWS'"
   ]
  },
  {
   "cell_type": "markdown",
   "metadata": {},
   "source": [
    "## EC time series with Fish and Wildlife standards\n",
    "Similarly to the other plots above, you can choose stations, show and export values and plots, and zoom in and out the plot, etc.\n",
    "\n",
    "__NOTE: the deficiency year rule is not implemented yet.__"
   ]
  },
  {
   "cell_type": "code",
   "execution_count": null,
   "metadata": {},
   "outputs": [],
   "source": [
    "pdmn.plot_step_w_regulation(df, df_reg_fws_ts, df_stations_reg_fws)"
   ]
  },
  {
   "cell_type": "markdown",
   "metadata": {},
   "source": [
    "## EC exceedance and statistics for D1641 Fish and Wildlife standards\n",
    "The plot shows the exceedance of the EC difference from the D1641 fish and wildlife standards. The positive EC difference means that the EC goes over the standard at the station.\n",
    "\n",
    "The plot also shows a table with statistics.\n",
    "\n",
    "__NOTE: the deficiency year rule is not implemented yet.__"
   ]
  },
  {
   "cell_type": "code",
   "execution_count": null,
   "metadata": {},
   "outputs": [],
   "source": [
    "pdmn.plot_exceedance_w_regulation(df, df_reg_fws_ts, df_stations_reg_fws)"
   ]
  }
 ],
 "metadata": {
  "kernelspec": {
   "display_name": "Python 3",
   "language": "python",
   "name": "python3"
  },
  "language_info": {
   "codemirror_mode": {
    "name": "ipython",
    "version": 3
   },
   "file_extension": ".py",
   "mimetype": "text/x-python",
   "name": "python",
   "nbconvert_exporter": "python",
   "pygments_lexer": "ipython3",
   "version": "3.7.5"
  },
  "toc": {
   "base_numbering": 1,
   "nav_menu": {},
   "number_sections": true,
   "sideBar": true,
   "skip_h1_title": false,
   "title_cell": "Table of Contents",
   "title_sidebar": "Contents",
   "toc_cell": false,
   "toc_position": {
    "height": "calc(100% - 180px)",
    "left": "10px",
    "top": "150px",
    "width": "274.8px"
   },
   "toc_section_display": true,
   "toc_window_display": true
  },
  "varInspector": {
   "cols": {
    "lenName": 16,
    "lenType": 16,
    "lenVar": 40
   },
   "kernels_config": {
    "python": {
     "delete_cmd_postfix": "",
     "delete_cmd_prefix": "del ",
     "library": "var_list.py",
     "varRefreshCmd": "print(var_dic_list())"
    },
    "r": {
     "delete_cmd_postfix": ") ",
     "delete_cmd_prefix": "rm(",
     "library": "var_list.r",
     "varRefreshCmd": "cat(var_dic_list()) "
    }
   },
   "types_to_exclude": [
    "module",
    "function",
    "builtin_function_or_method",
    "instance",
    "_Feature"
   ],
   "window_display": false
  }
 },
 "nbformat": 4,
 "nbformat_minor": 2
}
