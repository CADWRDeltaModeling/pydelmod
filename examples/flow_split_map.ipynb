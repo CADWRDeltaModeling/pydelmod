{
 "cells": [
  {
   "cell_type": "code",
   "execution_count": null,
   "id": "6bc5350d",
   "metadata": {},
   "outputs": [],
   "source": [
    "node_shapefile = 'd:/delta/maps/v8.2-opendata/gisgridmapv8.2nodes/dsm2_nodes_8_2.shp'\n",
    "hydro_echo_file = 'd:/delta/DSM2v821/study_templates/historical/output/hydro_echo_hist_v821.inp'"
   ]
  },
  {
   "cell_type": "code",
   "execution_count": null,
   "id": "926ddb20",
   "metadata": {},
   "outputs": [],
   "source": [
    "from pydelmod import dsm2ui"
   ]
  },
  {
   "cell_type": "code",
   "execution_count": null,
   "id": "cfc6c562",
   "metadata": {},
   "outputs": [],
   "source": [
    "netmap = dsm2ui.DSM2GraphNetworkMap(node_shapefile, hydro_echo_file)"
   ]
  },
  {
   "cell_type": "code",
   "execution_count": null,
   "id": "8ab746da",
   "metadata": {},
   "outputs": [],
   "source": [
    "netmap.get_panel()"
   ]
  },
  {
   "cell_type": "code",
   "execution_count": null,
   "id": "83b5da60",
   "metadata": {},
   "outputs": [],
   "source": [
    "import panel as pn\n",
    "pn.extension()"
   ]
  },
  {
   "cell_type": "code",
   "execution_count": null,
   "id": "d6f0d3c8",
   "metadata": {},
   "outputs": [],
   "source": [
    "pn.serve(netmap.get_panel())"
   ]
  },
  {
   "cell_type": "code",
   "execution_count": null,
   "id": "eaf9e8eb",
   "metadata": {},
   "outputs": [],
   "source": []
  }
 ],
 "metadata": {
  "kernelspec": {
   "display_name": "Python [conda env:dev_pydelmod]",
   "language": "python",
   "name": "conda-env-dev_pydelmod-py"
  },
  "language_info": {
   "codemirror_mode": {
    "name": "ipython",
    "version": 3
   },
   "file_extension": ".py",
   "mimetype": "text/x-python",
   "name": "python",
   "nbconvert_exporter": "python",
   "pygments_lexer": "ipython3",
   "version": "3.7.11"
  },
  "toc": {
   "base_numbering": 1,
   "nav_menu": {},
   "number_sections": true,
   "sideBar": true,
   "skip_h1_title": false,
   "title_cell": "Table of Contents",
   "title_sidebar": "Contents",
   "toc_cell": false,
   "toc_position": {},
   "toc_section_display": true,
   "toc_window_display": false
  }
 },
 "nbformat": 4,
 "nbformat_minor": 5
}
