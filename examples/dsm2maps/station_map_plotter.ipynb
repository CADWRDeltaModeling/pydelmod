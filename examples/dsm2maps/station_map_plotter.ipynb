{
 "cells": [
  {
   "cell_type": "code",
   "execution_count": null,
   "metadata": {},
   "outputs": [],
   "source": [
    "from pydelmod import dsm2ui"
   ]
  },
  {
   "cell_type": "code",
   "execution_count": null,
   "metadata": {},
   "outputs": [],
   "source": [
    "channel_shapefile='d:/delta/maps/v8.2-opendata/gisgridmapv8.2channelstraightlines/dsm2_channels_straightlines_8_2.shp'\n",
    "flow_line_shapefile='d:/delta/maps/v8.2-opendata/gisgridmapv8.2channelcenterlines/dsm2_channels_centerlines_8_2.shp'\n",
    "hydro_echo_file='d:/delta/DSM2v821/study_templates/historical/output/hydro_echo_hist_v821.inp'\n",
    "hydro_tidefile='d:/delta/DSM2v821/study_templates/historical/output/hist_v821.h5'"
   ]
  },
  {
   "cell_type": "code",
   "execution_count": null,
   "metadata": {},
   "outputs": [],
   "source": [
    "plotter = dsm2ui.build_output_plotter(channel_shapefile, hydro_echo_file, 'flow')"
   ]
  },
  {
   "cell_type": "code",
   "execution_count": null,
   "metadata": {},
   "outputs": [],
   "source": [
    "plotter.get_panel()"
   ]
  }
 ],
 "metadata": {
  "kernelspec": {
   "display_name": "Python [conda env:dev_pydelmod]",
   "language": "python",
   "name": "conda-env-dev_pydelmod-py"
  },
  "language_info": {
   "codemirror_mode": {
    "name": "ipython",
    "version": 3
   },
   "file_extension": ".py",
   "mimetype": "text/x-python",
   "name": "python",
   "nbconvert_exporter": "python",
   "pygments_lexer": "ipython3",
   "version": "3.7.11"
  },
  "toc": {
   "base_numbering": 1,
   "nav_menu": {},
   "number_sections": true,
   "sideBar": true,
   "skip_h1_title": false,
   "title_cell": "Table of Contents",
   "title_sidebar": "Contents",
   "toc_cell": false,
   "toc_position": {},
   "toc_section_display": true,
   "toc_window_display": false
  }
 },
 "nbformat": 4,
 "nbformat_minor": 2
}
