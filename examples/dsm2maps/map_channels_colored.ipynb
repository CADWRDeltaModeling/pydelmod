{
 "cells": [
  {
   "cell_type": "code",
   "execution_count": null,
   "id": "bd8bd1bc",
   "metadata": {},
   "outputs": [],
   "source": [
    "import pydelmod"
   ]
  },
  {
   "cell_type": "code",
   "execution_count": null,
   "id": "941fdee8",
   "metadata": {},
   "outputs": [],
   "source": [
    "from pydelmod import dsm2ui"
   ]
  },
  {
   "cell_type": "code",
   "execution_count": null,
   "id": "c0764f57",
   "metadata": {},
   "outputs": [],
   "source": [
    "flow_line_shapefile='d:/delta/maps/v8.2-opendata/gisgridmapv8.2channelcenterlines/dsm2_channels_centerlines_8_2.shp'\n",
    "hydro_echo_file='d:/delta/DSM2v821/study_templates/historical/output/hydro_echo_hist_v821.inp'"
   ]
  },
  {
   "cell_type": "code",
   "execution_count": null,
   "id": "e26f903a",
   "metadata": {},
   "outputs": [],
   "source": [
    "ui = dsm2ui.DSM2FlowlineMap(flow_line_shapefile, hydro_echo_file)"
   ]
  },
  {
   "cell_type": "code",
   "execution_count": null,
   "id": "fea75e31",
   "metadata": {},
   "outputs": [],
   "source": [
    "ui.show_map_colored_by_dispersion()"
   ]
  },
  {
   "cell_type": "code",
   "execution_count": null,
   "id": "50aa4929",
   "metadata": {},
   "outputs": [],
   "source": [
    "ui.show_map_colored_by_manning()"
   ]
  },
  {
   "cell_type": "code",
   "execution_count": null,
   "id": "1ece363b",
   "metadata": {},
   "outputs": [],
   "source": [
    "ui.show_map_colored_by_length()"
   ]
  },
  {
   "cell_type": "code",
   "execution_count": null,
   "id": "1959b3ba",
   "metadata": {},
   "outputs": [],
   "source": []
  }
 ],
 "metadata": {
  "kernelspec": {
   "display_name": "Python [conda env:dev_pydelmod]",
   "language": "python",
   "name": "conda-env-dev_pydelmod-py"
  },
  "language_info": {
   "codemirror_mode": {
    "name": "ipython",
    "version": 3
   },
   "file_extension": ".py",
   "mimetype": "text/x-python",
   "name": "python",
   "nbconvert_exporter": "python",
   "pygments_lexer": "ipython3",
   "version": "3.7.11"
  },
  "toc": {
   "base_numbering": 1,
   "nav_menu": {},
   "number_sections": true,
   "sideBar": true,
   "skip_h1_title": false,
   "title_cell": "Table of Contents",
   "title_sidebar": "Contents",
   "toc_cell": false,
   "toc_position": {},
   "toc_section_display": true,
   "toc_window_display": false
  }
 },
 "nbformat": 4,
 "nbformat_minor": 5
}
