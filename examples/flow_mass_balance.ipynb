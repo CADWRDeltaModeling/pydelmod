{
 "cells": [
  {
   "cell_type": "code",
   "execution_count": null,
   "id": "fe4e0cb8",
   "metadata": {},
   "outputs": [],
   "source": [
    "# User interface components for DSM2 related information\n",
    "import os\n",
    "from functools import lru_cache\n",
    "import numpy as np\n",
    "import pandas as pd\n",
    "import geopandas as gpd\n",
    "import shapely\n",
    "# our imports\n",
    "import pyhecdss\n",
    "import pydsm\n",
    "from pydsm.input import parser\n",
    "from pydsm import hydroh5\n",
    "from pydsm.input import parser, network\n",
    "import networkx as nx\n",
    "from pydelmod import dsm2ui\n",
    "from vtools.functions.filter import godin\n",
    "# viz imports\n",
    "import geoviews as gv\n",
    "import hvplot.pandas\n",
    "import holoviews as hv\n",
    "from holoviews import opts\n",
    "hv.extension('bokeh')\n",
    "import colorcet as cc\n",
    "#\n",
    "import param\n",
    "import panel as pn\n",
    "pn.extension()"
   ]
  },
  {
   "cell_type": "code",
   "execution_count": null,
   "id": "2f39a2b2",
   "metadata": {},
   "outputs": [],
   "source": [
    "node_shapefile = 'd:/delta/maps/v8.2-opendata/gisgridmapv8.2nodes/dsm2_nodes_8_2.shp'\n",
    "hydro_echo_file = 'd:/delta/DSM2v821/study_templates/historical/output/hydro_echo_hist_v821.inp'"
   ]
  },
  {
   "cell_type": "code",
   "execution_count": null,
   "id": "bdb737b4",
   "metadata": {},
   "outputs": [],
   "source": [
    "tables = dsm2ui.load_echo_file(hydro_echo_file)\n",
    "gc = network.build_network_channels(tables)"
   ]
  },
  {
   "cell_type": "code",
   "execution_count": null,
   "id": "a4e12721",
   "metadata": {},
   "outputs": [],
   "source": [
    "nodes = dsm2ui.load_dsm2_node_shapefile(node_shapefile)\n",
    "\n",
    "nodes['x']=nodes.geometry.x\n",
    "nodes['y']=nodes.geometry.y\n",
    "hv.element.tiles.CartoLight()*nodes.hvplot()"
   ]
  },
  {
   "cell_type": "code",
   "execution_count": null,
   "id": "5506ca08",
   "metadata": {},
   "outputs": [],
   "source": [
    "node_map = dsm2ui.to_node_tuple_map(nodes)"
   ]
  },
  {
   "cell_type": "code",
   "execution_count": null,
   "id": "3fb44047",
   "metadata": {},
   "outputs": [],
   "source": [
    "opts.defaults(opts.Graph(height=800, width=600))"
   ]
  },
  {
   "cell_type": "code",
   "execution_count": null,
   "id": "f7513213",
   "metadata": {},
   "outputs": [],
   "source": [
    "# should work but doesn't yet\n",
    "tiled_network = hv.element.tiles.CartoLight()* hv.Graph.from_networkx(gc, node_map).opts(\n",
    "        opts.Graph(directed=True, \n",
    "                   arrowhead_length=0.001, \n",
    "                   labelled=['index'],\n",
    "                   node_alpha=0.5, node_size=10\n",
    "                  )\n",
    "    )\n"
   ]
  },
  {
   "cell_type": "code",
   "execution_count": null,
   "id": "7d2ea67e",
   "metadata": {},
   "outputs": [],
   "source": [
    "selector = hv.streams.Selection1D(source = tiled_network.Graph.I.nodes)\n",
    "def print_selected_index(index):\n",
    "    print(f'Selected {index} on graph')\n",
    "\n",
    "selector.add_subscriber(print_selected_index)"
   ]
  },
  {
   "cell_type": "code",
   "execution_count": null,
   "id": "b058cbdd",
   "metadata": {},
   "outputs": [],
   "source": [
    "# this second part of overlay needed only because of issue. \n",
    "# see https://discourse.holoviz.org/t/selection-on-graph-nodes-doesnt-work/3437\n",
    "tiled_network*(tiled_network.Graph.I.nodes.opts(alpha=0)) "
   ]
  },
  {
   "cell_type": "code",
   "execution_count": null,
   "id": "d7c71ac7",
   "metadata": {},
   "outputs": [],
   "source": [
    "node_index = 322"
   ]
  },
  {
   "cell_type": "code",
   "execution_count": null,
   "id": "9f3a7750",
   "metadata": {},
   "outputs": [],
   "source": [
    "node_id = int(tiled_network.Graph.I.nodes.data.iloc[node_index].values[2])\n",
    "node_id"
   ]
  },
  {
   "cell_type": "code",
   "execution_count": null,
   "id": "c0dc7314",
   "metadata": {},
   "outputs": [],
   "source": [
    "in_channels, out_channels = dsm2ui.get_in_out_channel_numbers(gc, node_id)"
   ]
  },
  {
   "cell_type": "code",
   "execution_count": null,
   "id": "57c74e28",
   "metadata": {},
   "outputs": [],
   "source": [
    "import pydsm"
   ]
  },
  {
   "cell_type": "code",
   "execution_count": null,
   "id": "f29bf15c",
   "metadata": {},
   "outputs": [],
   "source": [
    "io_file_table = tables['IO_FILE']\n",
    "io_file_table"
   ]
  },
  {
   "cell_type": "code",
   "execution_count": null,
   "id": "8aa092e1",
   "metadata": {},
   "outputs": [],
   "source": [
    "ot = tables['OUTPUT_CHANNEL'].copy()"
   ]
  },
  {
   "cell_type": "code",
   "execution_count": null,
   "id": "d3d72949",
   "metadata": {},
   "outputs": [],
   "source": [
    "ot"
   ]
  },
  {
   "cell_type": "code",
   "execution_count": null,
   "id": "8166c058",
   "metadata": {},
   "outputs": [],
   "source": [
    "from pydelmod.dsm2study import abs_path"
   ]
  },
  {
   "cell_type": "code",
   "execution_count": null,
   "id": "f3f50663",
   "metadata": {},
   "outputs": [],
   "source": [
    "ot['FILE']=ot.apply(lambda r: abs_path(r['FILE'], hydro_echo_file), axis=1)"
   ]
  },
  {
   "cell_type": "code",
   "execution_count": null,
   "id": "e1eea815",
   "metadata": {},
   "outputs": [],
   "source": [
    "hdf5_file_io_row = io_file_table[io_file_table.TYPE=='hdf5']\n",
    "hdf5_file_io_row.iloc[0]['FILE']"
   ]
  },
  {
   "cell_type": "code",
   "execution_count": null,
   "id": "c17f2b7e",
   "metadata": {},
   "outputs": [],
   "source": [
    "from pydelmod.dsm2ui import get_hydro_tidefile, abs_path"
   ]
  },
  {
   "cell_type": "code",
   "execution_count": null,
   "id": "1a6c4743",
   "metadata": {},
   "outputs": [],
   "source": [
    "hydro_tidefile = abs_path(get_hydro_tidefile(tables), hydro_echo_file)\n",
    "hydro_tidefile"
   ]
  },
  {
   "cell_type": "code",
   "execution_count": null,
   "id": "9fe52e38",
   "metadata": {},
   "outputs": [],
   "source": [
    "hydro = pydsm.hydroh5.HydroH5(hydro_tidefile)"
   ]
  },
  {
   "cell_type": "code",
   "execution_count": null,
   "id": "9520a5f4",
   "metadata": {},
   "outputs": [],
   "source": [
    "in_flows = [hydro.get_channel_flow(cid,'upstream',timewindow='01JUL2008 0000 - 01AUG2008 0000') for cid in in_channels]"
   ]
  },
  {
   "cell_type": "code",
   "execution_count": null,
   "id": "bf26a9f8",
   "metadata": {},
   "outputs": [],
   "source": [
    "out_flows = [hydro.get_channel_flow(cid,'downstream',timewindow='01JUL2008 0000 - 01AUG2008 0000') for cid in out_channels]"
   ]
  },
  {
   "cell_type": "code",
   "execution_count": null,
   "id": "43776de6",
   "metadata": {},
   "outputs": [],
   "source": [
    "total_inflows = sum([f.iloc[:,0] for f in in_flows])\n",
    "total_outflows = sum([f.iloc[:,0] for f in out_flows])"
   ]
  },
  {
   "cell_type": "code",
   "execution_count": null,
   "id": "a4955ca9",
   "metadata": {},
   "outputs": [],
   "source": [
    "mean_inflows = [df.mean() for df in in_flows]\n",
    "\n",
    "mean_inflows"
   ]
  },
  {
   "cell_type": "code",
   "execution_count": null,
   "id": "82a75a83",
   "metadata": {},
   "outputs": [],
   "source": [
    "mean_outflows = [df.mean() for df in out_flows]\n",
    "mean_outflows"
   ]
  },
  {
   "cell_type": "code",
   "execution_count": null,
   "id": "7f25a76c",
   "metadata": {},
   "outputs": [],
   "source": [
    "sum([f.values[0] for f in mean_outflows])"
   ]
  },
  {
   "cell_type": "code",
   "execution_count": null,
   "id": "28572b94",
   "metadata": {},
   "outputs": [],
   "source": [
    "su"
   ]
  },
  {
   "cell_type": "code",
   "execution_count": null,
   "id": "bf327245",
   "metadata": {},
   "outputs": [],
   "source": [
    "mean_outflows[0].values[0]+mean_outflows[1].values[0]"
   ]
  },
  {
   "cell_type": "code",
   "execution_count": null,
   "id": "02017921",
   "metadata": {},
   "outputs": [],
   "source": []
  },
  {
   "cell_type": "code",
   "execution_count": null,
   "id": "b2e2a896",
   "metadata": {},
   "outputs": [],
   "source": []
  },
  {
   "cell_type": "code",
   "execution_count": null,
   "id": "cfde5e8f",
   "metadata": {},
   "outputs": [],
   "source": [
    "in_flows[0].columns[0]"
   ]
  },
  {
   "cell_type": "code",
   "execution_count": null,
   "id": "550cbb80",
   "metadata": {},
   "outputs": [],
   "source": [
    "tsin=[df.hvplot(label=df.columns[0]) for df in in_flows]\n",
    "tsout=[df.hvplot(label=df.columns[0]) for df in out_flows]"
   ]
  },
  {
   "cell_type": "code",
   "execution_count": null,
   "id": "b708cba4",
   "metadata": {},
   "outputs": [],
   "source": [
    "(hv.Overlay(tsin).opts(title='Inflows')+hv.Overlay(tsout).opts(title='Outflows')).cols(1)"
   ]
  },
  {
   "cell_type": "code",
   "execution_count": null,
   "id": "a2699540",
   "metadata": {},
   "outputs": [],
   "source": [
    "(total_inflows.hvplot(label='total_inflows')*total_outflows.hvplot(label='total_outflows')).opts(title='Total Inflows & Outflows')"
   ]
  },
  {
   "cell_type": "code",
   "execution_count": null,
   "id": "4bc8f303",
   "metadata": {},
   "outputs": [],
   "source": [
    "(total_inflows-total_outflows).hvplot(label='Total Inflows - Outflows')"
   ]
  },
  {
   "cell_type": "code",
   "execution_count": null,
   "id": "3114b55c",
   "metadata": {},
   "outputs": [],
   "source": [
    "from vtools.functions.filter import godin"
   ]
  },
  {
   "cell_type": "code",
   "execution_count": null,
   "id": "45aaf094",
   "metadata": {},
   "outputs": [],
   "source": [
    "godin((total_inflows-total_outflows).to_frame()).hvplot(label='Total Inflows - Outflows (Tidally Filtered)')"
   ]
  },
  {
   "cell_type": "code",
   "execution_count": null,
   "id": "2b3b1070",
   "metadata": {},
   "outputs": [],
   "source": [
    "node_id"
   ]
  },
  {
   "cell_type": "code",
   "execution_count": null,
   "id": "14f101a3",
   "metadata": {},
   "outputs": [],
   "source": [
    "type(node_id)"
   ]
  },
  {
   "cell_type": "code",
   "execution_count": null,
   "id": "8e8f4368",
   "metadata": {},
   "outputs": [],
   "source": [
    "sflow = hydro.get_input_table('/hydro/input/source_flow')\n",
    "sflow"
   ]
  },
  {
   "cell_type": "code",
   "execution_count": null,
   "id": "a2b859ed",
   "metadata": {},
   "outputs": [],
   "source": [
    "sflow_node = sflow[sflow['node']==node_id]\n",
    "sflow_node"
   ]
  },
  {
   "cell_type": "code",
   "execution_count": null,
   "id": "ce4b0742",
   "metadata": {},
   "outputs": [],
   "source": [
    "def abs_path(dssfile, h5file):\n",
    "    return os.path.normpath(os.path.join(os.path.dirname(h5file),'../',dssfile))"
   ]
  },
  {
   "cell_type": "code",
   "execution_count": null,
   "id": "cb37f4d3",
   "metadata": {},
   "outputs": [],
   "source": [
    "def get_data_for_source(sn, hydro_tide_filename):\n",
    "    datasign = sn.sign\n",
    "    dssfile = sn.file\n",
    "    dsspath = sn.path\n",
    "    dssfile = abs_path(dssfile, hydro_tide_filename)\n",
    "    return datasign*next(pyhecdss.get_ts(dssfile, dsspath))[0]"
   ]
  },
  {
   "cell_type": "code",
   "execution_count": null,
   "id": "5a3bb201",
   "metadata": {},
   "outputs": [],
   "source": [
    "sn0=sflow_node.iloc[0]"
   ]
  },
  {
   "cell_type": "code",
   "execution_count": null,
   "id": "76aaff56",
   "metadata": {},
   "outputs": [],
   "source": [
    "sdata = [get_data_for_source(sn, hydro.h5.filename) for _, sn in sflow_node.iterrows()]"
   ]
  },
  {
   "cell_type": "code",
   "execution_count": null,
   "id": "46cd153e",
   "metadata": {},
   "outputs": [],
   "source": [
    "netsources = sum([df.iloc[:,0] for df in sdata])"
   ]
  },
  {
   "cell_type": "code",
   "execution_count": null,
   "id": "1eb0b041",
   "metadata": {},
   "outputs": [],
   "source": [
    "netsources.index = netsources.index.to_timestamp()"
   ]
  },
  {
   "cell_type": "code",
   "execution_count": null,
   "id": "732c8973",
   "metadata": {},
   "outputs": [],
   "source": [
    "net_filtered_flow=godin((total_inflows-total_outflows).to_frame()).iloc[:,0]\n",
    "net_filtered_flow"
   ]
  },
  {
   "cell_type": "code",
   "execution_count": null,
   "id": "f5782376",
   "metadata": {},
   "outputs": [],
   "source": [
    "netsources=netsources[net_filtered_flow.index[0]:net_filtered_flow.index[-1]]\n",
    "netsources"
   ]
  },
  {
   "cell_type": "code",
   "execution_count": null,
   "id": "27361177",
   "metadata": {},
   "outputs": [],
   "source": [
    "netmb=(net_filtered_flow.resample('D').mean()+netsources)"
   ]
  },
  {
   "cell_type": "code",
   "execution_count": null,
   "id": "f5188ad2",
   "metadata": {},
   "outputs": [],
   "source": [
    "netmb.hvplot(label='Net Mass Balance')"
   ]
  },
  {
   "cell_type": "code",
   "execution_count": null,
   "id": "948718c7",
   "metadata": {},
   "outputs": [],
   "source": [
    "print('Mass Balance over the period: ', netmb.sum())"
   ]
  },
  {
   "cell_type": "code",
   "execution_count": null,
   "id": "dd23b06b",
   "metadata": {},
   "outputs": [],
   "source": [
    "total_inflows\n",
    "outflow_pcts = [df.iloc[:,0]/total_inflows for df in out_flows]\n",
    "outflow_pcts"
   ]
  },
  {
   "cell_type": "code",
   "execution_count": null,
   "id": "8b682913",
   "metadata": {},
   "outputs": [],
   "source": [
    "out_flows[0].sum()/total_inflows.sum()"
   ]
  },
  {
   "cell_type": "code",
   "execution_count": null,
   "id": "9b591ced",
   "metadata": {},
   "outputs": [],
   "source": [
    "def flow_pct(out_flows, total_inflows):\n",
    "    t=total_inflows.sum()\n",
    "    return [df.sum()/t for df in out_flows]"
   ]
  },
  {
   "cell_type": "code",
   "execution_count": null,
   "id": "149cd674",
   "metadata": {},
   "outputs": [],
   "source": [
    "flow_pct(out_flows, total_inflows)"
   ]
  },
  {
   "cell_type": "code",
   "execution_count": null,
   "id": "4cfcccb5",
   "metadata": {},
   "outputs": [],
   "source": [
    "def build_sankey(node_id, in_flows, out_flows):\n",
    "    mean_inflows = [df.mean() for df in in_flows]\n",
    "    mean_outflows = [df.mean() for df in out_flows]\n",
    "    inlist = [[x.index[0],str(node_id),x[0]] for x in mean_inflows]\n",
    "    outlist = [[str(node_id),x.index[0],x[0]] for x in mean_outflows]\n",
    "    edges = pd.DataFrame(inlist+outlist, columns=['from','to','value'])\n",
    "    sankey = hv.Sankey(edges, label=f'Flows in/out of {node_id}')\n",
    "    sankey = sankey.opts(label_position='left', edge_fill_alpha=0.75, edge_fill_color='value', node_alpha=0.5, node_color='index', cmap='blues', colorbar=True)\n",
    "    return sankey#.opts(frame_width=300, frame_height=300)"
   ]
  },
  {
   "cell_type": "code",
   "execution_count": null,
   "id": "b1f3e686",
   "metadata": {},
   "outputs": [],
   "source": [
    "build_sankey(node_id, in_flows, out_flows)"
   ]
  },
  {
   "cell_type": "markdown",
   "id": "9a6b7a4e",
   "metadata": {},
   "source": [
    "# Observation stations\n",
    "Lets look at observation stations..."
   ]
  },
  {
   "cell_type": "code",
   "execution_count": null,
   "id": "1e6856a7",
   "metadata": {},
   "outputs": [],
   "source": [
    "flow_locations = pd.read_csv('d:/dev/DSM2_Calibration_Notebooks/location_info/calibration_flow_stations.csv')\n",
    "flow_locations"
   ]
  },
  {
   "cell_type": "code",
   "execution_count": null,
   "id": "4d4d64cb",
   "metadata": {},
   "outputs": [],
   "source": [
    "# keep only those that have location info\n",
    "flow_locations = flow_locations[~(flow_locations.Latitude.isna() | flow_locations.Longitude.isna())]\n",
    "flow_locations = flow_locations.astype({'Latitude':'float','Longitude': 'float'})"
   ]
  },
  {
   "cell_type": "code",
   "execution_count": null,
   "id": "bc435480",
   "metadata": {},
   "outputs": [],
   "source": [
    "tiled_network*flow_locations.hvplot.points(x='Longitude',y='Latitude',geo=True,color='red')"
   ]
  },
  {
   "cell_type": "code",
   "execution_count": null,
   "id": "7fa35686",
   "metadata": {},
   "outputs": [],
   "source": []
  }
 ],
 "metadata": {
  "kernelspec": {
   "display_name": "Python [conda env:dev_pydelmod]",
   "language": "python",
   "name": "conda-env-dev_pydelmod-py"
  },
  "language_info": {
   "codemirror_mode": {
    "name": "ipython",
    "version": 3
   },
   "file_extension": ".py",
   "mimetype": "text/x-python",
   "name": "python",
   "nbconvert_exporter": "python",
   "pygments_lexer": "ipython3",
   "version": "3.7.11"
  },
  "toc": {
   "base_numbering": 1,
   "nav_menu": {},
   "number_sections": true,
   "sideBar": true,
   "skip_h1_title": false,
   "title_cell": "Table of Contents",
   "title_sidebar": "Contents",
   "toc_cell": false,
   "toc_position": {},
   "toc_section_display": true,
   "toc_window_display": false
  }
 },
 "nbformat": 4,
 "nbformat_minor": 5
}
