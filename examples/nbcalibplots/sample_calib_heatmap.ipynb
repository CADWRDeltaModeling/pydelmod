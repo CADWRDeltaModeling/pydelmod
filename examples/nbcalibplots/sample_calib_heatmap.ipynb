{
 "cells": [
  {
   "cell_type": "code",
   "execution_count": null,
   "metadata": {},
   "outputs": [],
   "source": [
    "import pydelmod\n",
    "from pydelmod.calib_heatmap import heatmap_for_metric, read_summary_stats\n"
   ]
  },
  {
   "cell_type": "code",
   "execution_count": null,
   "metadata": {},
   "outputs": [],
   "source": [
    "location_info_dir='//cnrastore-bdo/Delta_Mod/Share/DSM2/full_calibration_8_3/delta/dsm2v8.3/postprocessing/location_info/'\n",
    "# \n",
    "study_dir='//cnrastore-bdo/Delta_Mod/Share/DSM2/full_calibration_8_3/delta/dsm2v8.3/studies'\n",
    "run_id='run21' # the name of the directory under studies"
   ]
  },
  {
   "cell_type": "markdown",
   "metadata": {},
   "source": [
    "## Metric heatmap"
   ]
  },
  {
   "cell_type": "code",
   "execution_count": null,
   "metadata": {},
   "outputs": [],
   "source": [
    "var_type='EC'\n",
    "dfp=read_summary_stats(f'{study_dir}/{run_id}/postprocessing/plots/1_summary_statistics_all_{var_type}.csv')\n",
    "#dfp=dfp.drop(columns=['v8_3_run20'],level=1) # if certain runs need to be dropped\n",
    "heatmap_for_metric(dfp, 'NMSE','EC summary stats from run 21 :: ').opts(width=800,height=1000)"
   ]
  },
  {
   "cell_type": "markdown",
   "metadata": {},
   "source": [
    "## Metric heatmap with absolute difference to a certain column (study)"
   ]
  },
  {
   "cell_type": "code",
   "execution_count": null,
   "metadata": {},
   "outputs": [],
   "source": [
    "var_type='EC'\n",
    "dfp=read_summary_stats(f'{study_dir}/{run_id}/postprocessing/plots/1_summary_statistics_all_{var_type}.csv')\n",
    "heatmap_for_metric(dfp, 'NMSE','EC summary stats from run 21 :: ','v8_2_1', base_diff_type='abs').opts(width=800,height=1000)"
   ]
  },
  {
   "cell_type": "markdown",
   "metadata": {},
   "source": [
    "## Metric Heatmap with percentage differences\n",
    "Percent diffs are now limited to +/- 50 for reasonable scaling"
   ]
  },
  {
   "cell_type": "code",
   "execution_count": null,
   "metadata": {},
   "outputs": [],
   "source": [
    "var_type='EC'\n",
    "dfp=read_summary_stats(f'{study_dir}/{run_id}/postprocessing/plots/1_summary_statistics_all_{var_type}.csv')\n",
    "#dfp=dfp.drop(columns=['v8_3_run20'],level=1) # if certain runs need to be dropped\n",
    "heatmap_for_metric(dfp, 'NMSE','EC summary stats from run 21 :: ','v8_2_1', base_diff_type='pct').opts(width=800,height=1000)"
   ]
  },
  {
   "cell_type": "markdown",
   "metadata": {},
   "source": [
    "## Metric Heatmap after dropping a column (study)"
   ]
  },
  {
   "cell_type": "code",
   "execution_count": null,
   "metadata": {},
   "outputs": [],
   "source": [
    "var_type='EC'\n",
    "dfp=read_summary_stats(f'{study_dir}/{run_id}/postprocessing/plots/1_summary_statistics_all_{var_type}.csv')\n",
    "dfp=dfp.drop(columns=['v8_3_run20'],level=1) # if certain runs need to be dropped\n",
    "heatmap_for_metric(dfp, 'NMSE','EC summary stats from run 21 :: ','v8_2_1', base_diff_type='pct').opts(width=800,height=1000)"
   ]
  },
  {
   "cell_type": "code",
   "execution_count": null,
   "metadata": {},
   "outputs": [],
   "source": []
  }
 ],
 "metadata": {
  "kernelspec": {
   "display_name": "Python [conda env:dev_pydelmod]",
   "language": "python",
   "name": "conda-env-dev_pydelmod-py"
  },
  "language_info": {
   "codemirror_mode": {
    "name": "ipython",
    "version": 3
   },
   "file_extension": ".py",
   "mimetype": "text/x-python",
   "name": "python",
   "nbconvert_exporter": "python",
   "pygments_lexer": "ipython3",
   "version": "3.7.11"
  },
  "toc": {
   "base_numbering": 1,
   "nav_menu": {},
   "number_sections": true,
   "sideBar": true,
   "skip_h1_title": false,
   "title_cell": "Table of Contents",
   "title_sidebar": "Contents",
   "toc_cell": false,
   "toc_position": {},
   "toc_section_display": true,
   "toc_window_display": false
  },
  "vscode": {
   "interpreter": {
    "hash": "f656b49c43cca08cc10f90635159e59d108aee76bacba62e8bb8235506f4beb4"
   }
  }
 },
 "nbformat": 4,
 "nbformat_minor": 2
}
