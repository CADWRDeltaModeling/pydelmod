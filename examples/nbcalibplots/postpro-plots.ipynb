{
 "cells": [
  {
   "cell_type": "markdown",
   "metadata": {},
   "source": [
    "# Calibration Plot Generation Notebook"
   ]
  },
  {
   "cell_type": "code",
   "execution_count": null,
   "metadata": {},
   "outputs": [],
   "source": [
    "import pydsm\n",
    "from pydsm import postpro\n",
    "\n",
    "import pydelmod\n",
    "from pydelmod import calibplot\n",
    "import panel as pn\n",
    "import pandas as pd"
   ]
  },
  {
   "cell_type": "code",
   "execution_count": null,
   "metadata": {},
   "outputs": [],
   "source": [
    "###########################################################################\n",
    "# Usage:                                                                  #\n",
    "# 1. make sure one of the following 3 lines is uncommented                #\n",
    "# 2. change the value of timewindow (a few cells below this one)          #\n",
    "###########################################################################\n",
    "vartype=postpro.VarType('EC','mmhos/cm')\n",
    "# vartype=postpro.VarType('FLOW','cfs')\n",
    "# vartype=postpro.VarType('STAGE','ft')\n",
    "\n",
    "# For flow plots show a 1 month period where all observed data sets have no missing values. I chose September 2011.\n",
    "inst_plot_timewindow_dicts = {'FLOW': '2011-09-01:2011-09-30',\n",
    "                             'EC': None, \n",
    "                             'STAGE': '2011-09-01:2011-09-30'}\n",
    "location_folder = 'd:/DSM2_Calibration_Notebooks/8.2/LocationInfo/'\n",
    "obs_data_folder = 'd:/DSM2_Calibration_notebooks/8.2/observedData/'\n",
    "model_output_folder = 'd:/DSM2_Calibration_notebooks/8.2/modelOutput/'"
   ]
  },
  {
   "cell_type": "markdown",
   "metadata": {},
   "source": [
    "## Define variable type \n",
    "(e.g. FLOW, STAGE, EC, TEMP, etc i.e. the C Part of the DSS files)"
   ]
  },
  {
   "cell_type": "markdown",
   "metadata": {},
   "source": [
    "## Things that change with vartype"
   ]
  },
  {
   "cell_type": "code",
   "execution_count": null,
   "metadata": {},
   "outputs": [],
   "source": [
    "locationfile_for_vartype={'EC': location_folder + 'calibration_ec_stations.csv',\n",
    "                         'FLOW': location_folder + 'calibration_flow_stations.csv',\n",
    "                         'STAGE': location_folder + 'calibration_stage_stations.csv'}\n",
    "obs_dssfile_for_vartype={'EC': obs_data_folder + 'ec_merged.dss',\n",
    "                       'FLOW': obs_data_folder + 'flow_merged.dss',\n",
    "                       'STAGE': obs_data_folder + 'stage_merged.dss'}"
   ]
  },
  {
   "cell_type": "markdown",
   "metadata": {},
   "source": [
    "## Load locations from a .csv file \n",
    "The .csv file should have atleast 'Name','BPart' and 'Description' columns"
   ]
  },
  {
   "cell_type": "code",
   "execution_count": null,
   "metadata": {},
   "outputs": [],
   "source": [
    "locationfile=locationfile_for_vartype[vartype.name]\n",
    "dfloc = postpro.load_location_file(locationfile)\n",
    "locations=[postpro.Location(r['Name'],r['BPart'],r['Description']) for i,r in dfloc.iterrows()]"
   ]
  },
  {
   "cell_type": "markdown",
   "metadata": {},
   "source": [
    "## Define studies\n",
    "The studies are a set of a name and dss file that contains the data"
   ]
  },
  {
   "cell_type": "code",
   "execution_count": null,
   "metadata": {},
   "outputs": [],
   "source": [
    "obs_study=postpro.Study('Observed',obs_dssfile_for_vartype[vartype.name])\n",
    "# No \".\" allowed in study names because of issue https://github.com/holoviz/holoviews/issues/4714\n",
    "study_file_map = {'DSM2v8_1_2': model_output_folder + 'historical_v81.dss',\n",
    "                  'DSM2v8_2': model_output_folder + 'historical_v82b1.dss'\n",
    "                  }\n",
    "model_studies=[postpro.Study(name,study_file_map[name]) for name in study_file_map]\n",
    "studies=[obs_study]+model_studies"
   ]
  },
  {
   "cell_type": "markdown",
   "metadata": {},
   "source": [
    "## Define timewindow (optional)\n",
    "Time window in the format of start_date_str - end_date_str. Specify empty string if the available data should decide the time window"
   ]
  },
  {
   "cell_type": "code",
   "execution_count": null,
   "metadata": {},
   "outputs": [],
   "source": [
    "#timewindow='01OCT2013 - 01DEC2013'\n",
    "timewindow=\"\"\n",
    "# calibration periods\n",
    "hydro_calibration_time_window_str='01OCT2010 - 01OCT2012'\n",
    "qual_calibration_time_window_str = '01OCT2009 - 01OCT2017'\n",
    "# validation periods\n",
    "hydro_validation_time_window_str='01OCT2000 - 01OCT2017'\n",
    "qual_validation_time_window_str = '01OCT2000 - 01OCT2009'\n",
    "\n",
    "# change the value of this variable\n",
    "timewindow=qual_calibration_time_window_str\n"
   ]
  },
  {
   "cell_type": "code",
   "execution_count": null,
   "metadata": {},
   "outputs": [],
   "source": [
    "def save_to_png(calib_plot_template,fname):\n",
    "    hvobj=calib_plot_template[1][0]\n",
    "    hvobj.object=hvobj.object.opts(toolbar=None) # remove the toolbar from the second row plot\n",
    "    hvobj=calib_plot_template[1][0]\n",
    "    hvobj.object=hvobj.object.opts(toolbar=None) # remove the toolbar from the second row plot\n",
    "    calib_plot_template.save(fname)"
   ]
  },
  {
   "cell_type": "markdown",
   "metadata": {},
   "source": [
    "# Build and save plot for each location"
   ]
  },
  {
   "cell_type": "code",
   "execution_count": null,
   "metadata": {},
   "outputs": [],
   "source": [
    "def build_and_save_plot(studies, location, vartype, timewindow, write_html=False, write_png=True):\n",
    "    flow_or_stage = (vartype.name == 'FLOW') or (vartype.name == 'STAGE')\n",
    "    if location.name=='RSAC128-RSAC123':\n",
    "        print('cross-delta flow')\n",
    "        flow_or_stage = False\n",
    "    flow_in_thousands = (vartype.name == 'FLOW')\n",
    "        \n",
    "    units=''\n",
    "    # set a separate timewindow for instantaneous plots\n",
    "    inst_plot_timewindow = inst_plot_timewindow_dicts[vartype.name]\n",
    "    if vartype.name == 'FLOW': units='CFS'\n",
    "    elif vartype.name == 'STAGE': units='FEET'\n",
    "    elif vartype.name == 'EC': units='UMHOS/CM'\n",
    "    calib_plot_template, metrics_df = calibplot.build_calib_plot_template(studies, location, vartype, timewindow, \n",
    "                                                            tidal_template=flow_or_stage, \n",
    "                                                            flow_in_thousands=flow_in_thousands, units=units, \n",
    "                                                            inst_plot_timewindow=inst_plot_timewindow)\n",
    "    \n",
    "    if write_html: calib_plot_template.save(f'{location.name}_{vartype.name}.html')\n",
    "    save_to_png(calib_plot_template,f'{location.name}_{vartype.name}.png')\n",
    "    return calib_plot_template, metrics_df"
   ]
  },
  {
   "cell_type": "code",
   "execution_count": null,
   "metadata": {},
   "outputs": [],
   "source": [
    "only_these_locations = None\n",
    "# if you want to create plots for a subset of the locations. Example\n",
    "# only_these_locations = ['RSAC155','CHVCT000']\n",
    "\n",
    "all_loc_metrics_df = None\n",
    "for location in locations:\n",
    "    if only_these_locations is None or len(only_these_locations) == 0 or location.name in only_these_locations:\n",
    "        print(location)\n",
    "        plot_template, metrics_df = build_and_save_plot(studies, location, vartype, timewindow, write_html=True)\n",
    "        metrics_df['Location'] = [location.name, location.name]\n",
    "        # move Location column to beginning\n",
    "        cols = list(metrics_df)\n",
    "        cols.insert(0, cols.pop(cols.index('Location')))\n",
    "        metrics_df = metrics_df.loc[:, cols]\n",
    "\n",
    "        if all_loc_metrics_df is None:\n",
    "            all_loc_metrics_df = metrics_df\n",
    "        else:\n",
    "            all_loc_metrics_df = all_loc_metrics_df.append(metrics_df)\n",
    "\n",
    "all_loc_metrics_df.to_csv('0_summary_statistics_'+vartype.name+'.csv')\n",
    "all_loc_metrics_df.to_html('0_summary_statistics_'+vartype.name+'.html')"
   ]
  },
  {
   "cell_type": "code",
   "execution_count": null,
   "metadata": {},
   "outputs": [],
   "source": []
  },
  {
   "cell_type": "code",
   "execution_count": null,
   "metadata": {},
   "outputs": [],
   "source": []
  },
  {
   "cell_type": "code",
   "execution_count": null,
   "metadata": {},
   "outputs": [],
   "source": []
  }
 ],
 "metadata": {
  "kernelspec": {
   "display_name": "Python [conda env:dms]",
   "language": "python",
   "name": "conda-env-dms-py"
  },
  "language_info": {
   "codemirror_mode": {
    "name": "ipython",
    "version": 3
   },
   "file_extension": ".py",
   "mimetype": "text/x-python",
   "name": "python",
   "nbconvert_exporter": "python",
   "pygments_lexer": "ipython3",
   "version": "3.7.10"
  },
  "toc": {
   "base_numbering": 1,
   "nav_menu": {},
   "number_sections": true,
   "sideBar": true,
   "skip_h1_title": false,
   "title_cell": "Table of Contents",
   "title_sidebar": "Contents",
   "toc_cell": false,
   "toc_position": {},
   "toc_section_display": true,
   "toc_window_display": false
  },
  "varInspector": {
   "cols": {
    "lenName": 16,
    "lenType": 16,
    "lenVar": 40
   },
   "kernels_config": {
    "python": {
     "delete_cmd_postfix": "",
     "delete_cmd_prefix": "del ",
     "library": "var_list.py",
     "varRefreshCmd": "print(var_dic_list())"
    },
    "r": {
     "delete_cmd_postfix": ") ",
     "delete_cmd_prefix": "rm(",
     "library": "var_list.r",
     "varRefreshCmd": "cat(var_dic_list()) "
    }
   },
   "types_to_exclude": [
    "module",
    "function",
    "builtin_function_or_method",
    "instance",
    "_Feature"
   ],
   "window_display": false
  }
 },
 "nbformat": 4,
 "nbformat_minor": 4
}
