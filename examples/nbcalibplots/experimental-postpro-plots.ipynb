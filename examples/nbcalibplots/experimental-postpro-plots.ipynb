{
 "cells": [
  {
   "cell_type": "code",
   "execution_count": null,
   "metadata": {},
   "outputs": [],
   "source": [
    "import pydsm\n",
    "from pydsm import postpro\n",
    "\n",
    "import pydelmod\n",
    "from pydelmod import calibplot\n",
    "\n",
    "VERBOSE=False"
   ]
  },
  {
   "cell_type": "code",
   "execution_count": null,
   "metadata": {},
   "outputs": [],
   "source": [
    "locationfile='e:/dsm2v82_calibration/LocationInfo/calibration_ec_stations.csv'\n",
    "dfloc = postpro.load_location_file(locationfile)\n",
    "locations=[postpro.Location(r['Name'],r['BPart'],r['Description']) for i,r in dfloc.iterrows()]\n",
    "           "
   ]
  },
  {
   "cell_type": "code",
   "execution_count": null,
   "metadata": {},
   "outputs": [],
   "source": [
    "vartype=postpro.VarType('EC','mmhos/cm')\n",
    "obs_study=postpro.Study('Observed','e:/dsm2v82_calibration/ObservedData/updated_sep-oct2020/cdec_ec_merged_sep2020.dss')"
   ]
  },
  {
   "cell_type": "code",
   "execution_count": null,
   "metadata": {},
   "outputs": [],
   "source": [
    "base_dir='e:/dsm2v82_calibration/'\n",
    "model_output_dir='output/'\n",
    "# No \".\" allowed in study names because of issue https://github.com/holoviz/holoviews/issues/4714\n",
    "study_file_map = {'DCD': base_dir+'BaselineRun/DSM2_DCD/'+model_output_dir+'historical_v81_DCD.dss',\n",
    "                  'DCD12 SMCD': base_dir+'BaselineRun/DSM2_DCD1.2_SMCD/'+model_output_dir+'historical_v82b1.dss',\n",
    "                  'DCD12 SMCD_last3': base_dir+'CalibrationRuns/last/DSM2_DCD1.2_SMCD_last3bin/'+model_output_dir+'historical_v82b1.dss',\n",
    "                  'DICU': base_dir+'BaselineRun/DSM2_DICU/'+model_output_dir+'historical_v81_DICU.dss'}\n",
    "model_studies=[postpro.Study(name,study_file_map[name]) for name in study_file_map]"
   ]
  },
  {
   "cell_type": "code",
   "execution_count": null,
   "metadata": {},
   "outputs": [],
   "source": [
    "studies=[obs_study]+model_studies"
   ]
  },
  {
   "cell_type": "code",
   "execution_count": null,
   "metadata": {},
   "outputs": [],
   "source": [
    "location=locations[14] # param\n",
    "if VERBOSE:\n",
    "    print(location)"
   ]
  },
  {
   "cell_type": "code",
   "execution_count": null,
   "metadata": {},
   "outputs": [],
   "source": [
    "pp=[postpro.PostProcessor(study,location,vartype) for study in studies]\n",
    "for p in pp: p.load_processed(timewindow='01OCT2013 - 01DEC2013')"
   ]
  },
  {
   "cell_type": "code",
   "execution_count": null,
   "metadata": {},
   "outputs": [],
   "source": [
    "gridstyle={'grid_line_alpha':1,'grid_line_color':'lightgrey'}"
   ]
  },
  {
   "cell_type": "code",
   "execution_count": null,
   "metadata": {},
   "outputs": [],
   "source": [
    "tsp=calibplot.tsplot([p.df for p in pp],[p.study.name for p in pp]).opts(ylabel=f'{vartype.name} @ {location.name}',show_grid=True,gridstyle=gridstyle)"
   ]
  },
  {
   "cell_type": "code",
   "execution_count": null,
   "metadata": {},
   "outputs": [],
   "source": [
    "gtsp=calibplot.tsplot([p.gdf for p in pp],[p.study.name for p in pp]).opts(ylabel=f'{vartype.name} @ {location.name}',show_grid=True,gridstyle=gridstyle)"
   ]
  },
  {
   "cell_type": "code",
   "execution_count": null,
   "metadata": {},
   "outputs": [],
   "source": [
    "tsplots2=(tsp.opts(width=900)+gtsp.opts(show_legend=False,width=900)).cols(1)\n",
    "if VERBOSE: \n",
    "    tsplots2"
   ]
  },
  {
   "cell_type": "code",
   "execution_count": null,
   "metadata": {},
   "outputs": [],
   "source": [
    "import holoviews as hv\n",
    "from holoviews import opts\n",
    "splot=calibplot.scatterplot([p.gdf for p in pp], [p.study.name for p in pp])\\\n",
    "    .opts(opts.Scatter(color=calibplot.shift_cycle(hv.Cycle('Category10'))))\\\n",
    "    .opts(ylabel='Model',legend_position=\"top_left\")\\\n",
    "    .opts(show_grid=True, frame_height=250, frame_width=250, data_aspect=1)\n",
    "if VERBOSE:\n",
    "    splot"
   ]
  },
  {
   "cell_type": "code",
   "execution_count": null,
   "metadata": {},
   "outputs": [],
   "source": [
    "dfmetrics=calibplot.calculate_metrics([p.gdf for p in pp],[p.study.name for p in pp])\n",
    "if VERBOSE:\n",
    "    dfmetrics"
   ]
  },
  {
   "cell_type": "code",
   "execution_count": null,
   "metadata": {},
   "outputs": [],
   "source": [
    "dfmetrics_monthly=calibplot.calculate_metrics([p.gdf.resample('M').mean() for p in pp],[p.study.name for p in pp])\n",
    "if VERBOSE:\n",
    "    dfmetrics_monthly"
   ]
  },
  {
   "cell_type": "code",
   "execution_count": null,
   "metadata": {},
   "outputs": [],
   "source": [
    "slope_plots=calibplot.regression_line_plots(dfmetrics)\n",
    "cplot=slope_plots.opts(opts.Slope(color=calibplot.shift_cycle(hv.Cycle('Category10'))))*splot\n",
    "cplot=cplot.opts(xlabel='Observed',ylabel='Model',legend_position=\"top_left\")\\\n",
    "    .opts(show_grid=True, frame_height=250, frame_width=250, data_aspect=1, show_legend=False)\n",
    "if VERBOSE:\n",
    "    cplot"
   ]
  },
  {
   "cell_type": "code",
   "execution_count": null,
   "metadata": {},
   "outputs": [],
   "source": [
    "import panel as pn\n",
    "import pandas as pd"
   ]
  },
  {
   "cell_type": "code",
   "execution_count": null,
   "metadata": {},
   "outputs": [],
   "source": [
    "dfdisplayed_metrics=dfmetrics.loc[:,['regression_equation','r2','mean_error','rmse']]\n",
    "dfdisplayed_metrics=pd.concat([dfdisplayed_metrics,dfmetrics_monthly.loc[:,['mean_error','rmse']]],axis=1)"
   ]
  },
  {
   "cell_type": "code",
   "execution_count": null,
   "metadata": {},
   "outputs": [],
   "source": [
    "dfdisplayed_metrics.index.name='DSM2 Run'\n",
    "dfdisplayed_metrics.columns=['Equation','R Squared','Mean Error','RMSE','Monthly Mean Error','Monthly RMSE']\n",
    "metrics_panel=pn.widgets.DataFrame(dfdisplayed_metrics)\n",
    "if VERBOSE: \n",
    "    metrics_panel"
   ]
  },
  {
   "cell_type": "code",
   "execution_count": null,
   "metadata": {},
   "outputs": [],
   "source": [
    "for p in pp[1:]:\n",
    "    p.process_diff(pp[0])"
   ]
  },
  {
   "cell_type": "code",
   "execution_count": null,
   "metadata": {},
   "outputs": [],
   "source": [
    "# Needed because of name with . https://github.com/holoviz/holoviews/issues/4714\n",
    "def sanitize_name(name):\n",
    "    return name.replace('.',' ')"
   ]
  },
  {
   "cell_type": "code",
   "execution_count": null,
   "metadata": {},
   "outputs": [],
   "source": [
    "amp_diff_kde=calibplot.kdeplot([p.amp_diff for p in pp[1:]],[p.study.name for p in pp[1:]],'Amplitude Diff')\n",
    "amp_diff_kde=amp_diff_kde.opts(opts.Distribution(color=calibplot.shift_cycle(hv.Cycle('Category10'))))\n",
    "if VERBOSE:\n",
    "    amp_diff_kde"
   ]
  },
  {
   "cell_type": "code",
   "execution_count": null,
   "metadata": {},
   "outputs": [],
   "source": [
    "amp_pdiff_kde=calibplot.kdeplot([p.amp_diff_pct for p in pp[1:]],[p.study.name for p in pp[1:]],'Amplitude Diff (%)')\n",
    "amp_pdiff_kde=amp_pdiff_kde.opts(opts.Distribution(color=calibplot.shift_cycle(hv.Cycle('Category10'))))\n",
    "if VERBOSE:\n",
    "    amp_pdiff_kde"
   ]
  },
  {
   "cell_type": "code",
   "execution_count": null,
   "metadata": {},
   "outputs": [],
   "source": [
    "phase_diff_kde=calibplot.kdeplot([p.phase_diff for p in pp[1:]],[p.study.name for p in pp[1:]],'Phase Diff (minutes)')\n",
    "phase_diff_kde=phase_diff_kde.opts(opts.Distribution(line_color=calibplot.shift_cycle(hv.Cycle('Category10')), filled=True))\n",
    "if VERBOSE:\n",
    "    phase_diff_kde"
   ]
  },
  {
   "cell_type": "code",
   "execution_count": null,
   "metadata": {},
   "outputs": [],
   "source": [
    "kdeplots=amp_diff_kde.opts(show_legend=False)+amp_pdiff_kde.opts(show_legend=False)+phase_diff_kde.opts(show_legend=False)\n",
    "kdeplots=kdeplots.cols(3).opts(shared_axes=False).opts(opts.Distribution(height=200,width=300))\n",
    "if VERBOSE:\n",
    "    kdeplots"
   ]
  },
  {
   "cell_type": "code",
   "execution_count": null,
   "metadata": {},
   "outputs": [],
   "source": [
    "header_panel=pn.panel(f'## {location.description} ({location.name}/{vartype.name})')"
   ]
  },
  {
   "cell_type": "code",
   "execution_count": null,
   "metadata": {},
   "outputs": [],
   "source": [
    "calib_plot_template=pn.Column(\n",
    "    header_panel,\n",
    "    pn.Row(tsplots2),\n",
    "    pn.Row(cplot.opts(shared_axes=False, toolbar=None),metrics_panel),pn.Row(kdeplots.opts(toolbar=None)))\n",
    "if VERBOSE: calib_plot_template"
   ]
  },
  {
   "cell_type": "code",
   "execution_count": null,
   "metadata": {},
   "outputs": [],
   "source": [
    "calib_plot_template_ec=pn.Column(\n",
    "    header_panel,\n",
    "    pn.Row(gtsp.opts(width=900, show_legend=True)),\n",
    "    pn.Row(cplot.opts(shared_axes=False),metrics_panel))\n",
    "\n",
    "if VERBOSE: calib_plot_template_ec"
   ]
  },
  {
   "cell_type": "code",
   "execution_count": null,
   "metadata": {},
   "outputs": [],
   "source": [
    "calib_plot_template.save('rsan018_flow_stage_template.html')\n",
    "calib_plot_template_ec.save('rsan018_ec_template.html')"
   ]
  },
  {
   "cell_type": "code",
   "execution_count": null,
   "metadata": {},
   "outputs": [],
   "source": []
  }
 ],
 "metadata": {
  "kernelspec": {
   "display_name": "Python [conda env:dev_pydelmod]",
   "language": "python",
   "name": "conda-env-dev_pydelmod-py"
  },
  "language_info": {
   "codemirror_mode": {
    "name": "ipython",
    "version": 3
   },
   "file_extension": ".py",
   "mimetype": "text/x-python",
   "name": "python",
   "nbconvert_exporter": "python",
   "pygments_lexer": "ipython3",
   "version": "3.7.9"
  },
  "toc": {
   "base_numbering": 1,
   "nav_menu": {},
   "number_sections": true,
   "sideBar": true,
   "skip_h1_title": false,
   "title_cell": "Table of Contents",
   "title_sidebar": "Contents",
   "toc_cell": false,
   "toc_position": {},
   "toc_section_display": true,
   "toc_window_display": false
  }
 },
 "nbformat": 4,
 "nbformat_minor": 4
}
