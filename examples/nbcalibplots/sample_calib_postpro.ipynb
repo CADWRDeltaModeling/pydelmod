{
 "cells": [
  {
   "cell_type": "code",
   "execution_count": null,
   "metadata": {},
   "outputs": [],
   "source": [
    "import pydsm\n",
    "from pydsm import postpro"
   ]
  },
  {
   "cell_type": "markdown",
   "metadata": {},
   "source": [
    "# Sample Notebook to show postprocessor usage"
   ]
  },
  {
   "cell_type": "markdown",
   "metadata": {},
   "source": [
    "## Setup\n",
    "A setup consists of \"Observed\" and one or more \"Models\":\n",
    " * A study has a name and dssfile\n",
    " * A location has a name, a bpart and a description\n",
    " * A vartype has a name and units\n"
   ]
  },
  {
   "cell_type": "code",
   "execution_count": null,
   "metadata": {},
   "outputs": [],
   "source": [
    "obs_study=postpro.Study('Observed','data/sample_obs.dss')\n",
    "m1_study=postpro.Study('Model1','data/sample_model1.dss')\n",
    "m2_study=postpro.Study('Model2','data/sample_model2.dss')\n",
    "studies=[obs_study, m1_study, m2_study]\n",
    "\n",
    "location=postpro.Location('RSAN018','RSAN018','Jersey Pt Station')\n",
    "obs_location=postpro.Location('RSAN018','JER','Jersey Pt Station') # B part for observed is JER\n",
    "vartype=postpro.VarType('EC','mmhos/cm')"
   ]
  },
  {
   "cell_type": "code",
   "execution_count": null,
   "metadata": {},
   "outputs": [],
   "source": [
    "pp=[postpro.PostProcessor(study,location,vartype) for study in [m1_study,m2_study]]\n",
    "pp=[postpro.PostProcessor(obs_study,obs_location,vartype)]+pp"
   ]
  },
  {
   "cell_type": "markdown",
   "metadata": {},
   "source": [
    "Customized processor for observed for merging and resampling to get it to uniform 15 min data"
   ]
  },
  {
   "cell_type": "code",
   "execution_count": null,
   "metadata": {},
   "outputs": [],
   "source": [
    "pp[0].do_resample_with_merge('15MIN')\n",
    "pp[0].do_fill_in()\n",
    "# pp[0].do_scale(-1) # If you want to scale the values as part of the post processing uncomment this line"
   ]
  },
  {
   "cell_type": "code",
   "execution_count": null,
   "metadata": {},
   "outputs": [],
   "source": [
    "for p in pp:\n",
    "    p.process()\n",
    "    p.store_processed()"
   ]
  },
  {
   "cell_type": "code",
   "execution_count": null,
   "metadata": {},
   "outputs": [],
   "source": []
  }
 ],
 "metadata": {
  "kernelspec": {
   "display_name": "Python [conda env:dev_pydelmod]",
   "language": "python",
   "name": "conda-env-dev_pydelmod-py"
  },
  "language_info": {
   "codemirror_mode": {
    "name": "ipython",
    "version": 3
   },
   "file_extension": ".py",
   "mimetype": "text/x-python",
   "name": "python",
   "nbconvert_exporter": "python",
   "pygments_lexer": "ipython3",
   "version": "3.7.9"
  },
  "toc": {
   "base_numbering": 1,
   "nav_menu": {},
   "number_sections": true,
   "sideBar": true,
   "skip_h1_title": false,
   "title_cell": "Table of Contents",
   "title_sidebar": "Contents",
   "toc_cell": false,
   "toc_position": {},
   "toc_section_display": true,
   "toc_window_display": false
  }
 },
 "nbformat": 4,
 "nbformat_minor": 4
}
