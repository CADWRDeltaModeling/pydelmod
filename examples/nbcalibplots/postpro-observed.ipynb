{
 "cells": [
  {
   "cell_type": "code",
   "execution_count": null,
   "metadata": {},
   "outputs": [],
   "source": [
    "import pydsm\n",
    "from pydsm import postpro"
   ]
  },
  {
   "cell_type": "markdown",
   "metadata": {},
   "source": [
    "# Dask related functions"
   ]
  },
  {
   "cell_type": "code",
   "execution_count": null,
   "metadata": {},
   "outputs": [],
   "source": [
    "###############################################################################\n",
    "# Dask uses parallel processing, which will run several times faster          #\n",
    "# However, messages printed to stdout will not be displayed in the notebook.  #\n",
    "# This includes messages indicating that plots will not be created for        #\n",
    "# certain locations due to missing DSS data. These messages will be displayed #\n",
    "# in the conda prompt window. The use of dask with network drives is not      #\n",
    "# recommended--some processes may fail.                                       #\n",
    "###############################################################################\n",
    "use_dask = True\n",
    "\n",
    "import dask\n",
    "from dask.distributed import Client, LocalCluster\n",
    "\n",
    "class DaskCluster:\n",
    "    def __init__(self):\n",
    "        self.client=None\n",
    "    def start_local_cluster(self):\n",
    "        cluster = LocalCluster(n_workers=8, threads_per_worker=1, memory_limit='6G') # threads_per_worker=1 needed if using numba :(\n",
    "        self.client = Client(cluster)\n",
    "    def stop_local_cluster(self):\n",
    "        self.client.shutdown()\n",
    "        self.client=None\n",
    "        \n",
    "def run_all(processors):\n",
    "    tasks=[dask.delayed(postpro.run_processor)(processor,dask_key_name=f'{processor.study.name}::{processor.location.name}/{processor.vartype.name}') for processor in processors]\n",
    "    dask.compute(tasks)"
   ]
  },
  {
   "cell_type": "code",
   "execution_count": null,
   "metadata": {},
   "outputs": [],
   "source": [
    "if use_dask:\n",
    "    cluster = DaskCluster()\n",
    "    cluster.start_local_cluster()\n",
    "    cluster.client"
   ]
  },
  {
   "cell_type": "markdown",
   "metadata": {},
   "source": [
    "# Setup for EC"
   ]
  },
  {
   "cell_type": "code",
   "execution_count": null,
   "metadata": {},
   "outputs": [],
   "source": [
    "dssfile='e:/dsm2v82_calibration/ObservedData/updated_sep-oct2020/cdec_ec_merged_sep2020.dss'\n",
    "locationfile='e:/dsm2v82_calibration/LocationInfo/calibration_ec_stations.csv'\n",
    "vartype='EC'\n",
    "units='mmhos/cm'\n",
    "study_name='Observed'\n",
    "observed=True\n",
    "processors=postpro.build_processors(dssfile, locationfile, vartype, units, study_name, observed)\n",
    "if use_dask:\n",
    "    run_all(processors)\n",
    "else:\n",
    "    for p in processors:\n",
    "        postpro.run_processor(p)"
   ]
  },
  {
   "cell_type": "markdown",
   "metadata": {},
   "source": [
    "# Setup for FLOW"
   ]
  },
  {
   "cell_type": "code",
   "execution_count": null,
   "metadata": {},
   "outputs": [],
   "source": [
    "dssfile='e:/dsm2v82_calibration/ObservedData/updated_sep-oct2020/cdec_flow_merged_sep2020.dss'\n",
    "locationfile='e:/dsm2v82_calibration/LocationInfo/calibration_flow_stations.csv'\n",
    "vartype='FLOW'\n",
    "units='cfs'\n",
    "study_name='Observed'\n",
    "observed=True\n",
    "processors=postpro.build_processors(dssfile, locationfile, vartype, units, study_name, observed)\n",
    "for processor in processors:\n",
    "    if processor.vartype.name == 'FLOW' and processor.location.name == 'VCU':\n",
    "        processor.do_scale(-1)\n",
    "if use_dask:\n",
    "    run_all(processors)\n",
    "else:\n",
    "    for p in processors:\n",
    "        postpro.run_processor(p)"
   ]
  },
  {
   "cell_type": "markdown",
   "metadata": {},
   "source": [
    "# Setup for STAGE"
   ]
  },
  {
   "cell_type": "code",
   "execution_count": null,
   "metadata": {},
   "outputs": [],
   "source": [
    "dssfile='e:/dsm2v82_calibration/ObservedData/updated_sep-oct2020/cdec_stage_merged_sep2020.dss'\n",
    "locationfile='e:/dsm2v82_calibration/LocationInfo/calibration_stage_stations.csv'\n",
    "vartype='STAGE'\n",
    "units='feet'\n",
    "study_name='Observed'\n",
    "observed=True\n",
    "processors=postpro.build_processors(dssfile, locationfile, vartype, units, study_name, observed)\n",
    "if use_dask:\n",
    "    run_all(processors)\n",
    "else:\n",
    "    for p in processors:\n",
    "        postpro.run_processor(p)"
   ]
  },
  {
   "cell_type": "code",
   "execution_count": null,
   "metadata": {},
   "outputs": [],
   "source": [
    "# Execute the command below to shutdown the cluster when done. \n",
    "if use_dask:\n",
    "    cluster.stop_local_cluster()"
   ]
  }
 ],
 "metadata": {
  "kernelspec": {
   "display_name": "Python [conda env:dev_pydelmod]",
   "language": "python",
   "name": "conda-env-dev_pydelmod-py"
  },
  "language_info": {
   "codemirror_mode": {
    "name": "ipython",
    "version": 3
   },
   "file_extension": ".py",
   "mimetype": "text/x-python",
   "name": "python",
   "nbconvert_exporter": "python",
   "pygments_lexer": "ipython3",
   "version": "3.7.10"
  },
  "toc": {
   "base_numbering": 1,
   "nav_menu": {},
   "number_sections": true,
   "sideBar": true,
   "skip_h1_title": false,
   "title_cell": "Table of Contents",
   "title_sidebar": "Contents",
   "toc_cell": false,
   "toc_position": {},
   "toc_section_display": true,
   "toc_window_display": false
  },
  "varInspector": {
   "cols": {
    "lenName": 16,
    "lenType": 16,
    "lenVar": 40
   },
   "kernels_config": {
    "python": {
     "delete_cmd_postfix": "",
     "delete_cmd_prefix": "del ",
     "library": "var_list.py",
     "varRefreshCmd": "print(var_dic_list())"
    },
    "r": {
     "delete_cmd_postfix": ") ",
     "delete_cmd_prefix": "rm(",
     "library": "var_list.r",
     "varRefreshCmd": "cat(var_dic_list()) "
    }
   },
   "types_to_exclude": [
    "module",
    "function",
    "builtin_function_or_method",
    "instance",
    "_Feature"
   ],
   "window_display": false
  }
 },
 "nbformat": 4,
 "nbformat_minor": 4
}
