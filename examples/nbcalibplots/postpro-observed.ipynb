{
 "cells": [
  {
   "cell_type": "markdown",
   "metadata": {
    "ExecuteTime": {
     "end_time": "2022-02-22T20:14:33.042573Z",
     "start_time": "2022-02-22T20:14:33.027616Z"
    }
   },
   "source": [
    "# Postpro-observed"
   ]
  },
  {
   "cell_type": "code",
   "execution_count": null,
   "metadata": {
    "ExecuteTime": {
     "end_time": "2022-02-22T20:14:33.058503Z",
     "start_time": "2022-02-22T20:14:33.043569Z"
    }
   },
   "outputs": [],
   "source": [
    "import pydsm\n",
    "from pydsm import postpro"
   ]
  },
  {
   "cell_type": "markdown",
   "metadata": {},
   "source": [
    "# Dask related functions"
   ]
  },
  {
   "cell_type": "code",
   "execution_count": null,
   "metadata": {
    "ExecuteTime": {
     "end_time": "2022-02-22T20:14:33.074438Z",
     "start_time": "2022-02-22T20:14:33.059500Z"
    }
   },
   "outputs": [],
   "source": [
    "# read config file\n",
    "import json\n",
    "config_filename = 'postpro_config.json'\n",
    "f = open(config_filename)\n",
    "data = json.load(f)\n",
    "vartype_dict = data['vartype_dict']\n",
    "process_vartype_dict = data['process_vartype_dict']\n",
    "dask_options_dict = data['dask_options_dict']\n",
    "location_files_dict = data['location_files_dict']\n",
    "observed_files_dict = data['observed_files_dict']\n",
    "study_files_dict = data['study_files_dict']\n",
    "use_dask = dask_options_dict['use_dask']\n",
    "use_dask = False #override what's in the config file for now"
   ]
  },
  {
   "cell_type": "code",
   "execution_count": null,
   "metadata": {
    "ExecuteTime": {
     "end_time": "2022-02-22T20:14:33.090375Z",
     "start_time": "2022-02-22T20:14:33.075433Z"
    }
   },
   "outputs": [],
   "source": [
    "# dask is a parallel processing library. Using it will save a lot of time, but error \n",
    "# messages will not be as helpful, so set to False for debugging. \n",
    "# Another option is to set scheduler (below) to single_threaded\n",
    "# use_dask = dask_options_dict['use_dask']"
   ]
  },
  {
   "cell_type": "code",
   "execution_count": null,
   "metadata": {
    "ExecuteTime": {
     "end_time": "2022-02-22T20:14:33.105301Z",
     "start_time": "2022-02-22T20:14:33.091362Z"
    }
   },
   "outputs": [],
   "source": [
    "import dask\n",
    "from dask.distributed import Client, LocalCluster\n",
    "\n",
    "class DaskCluster:\n",
    "    def __init__(self):\n",
    "        self.client=None\n",
    "    def start_local_cluster(self):\n",
    "        cluster = LocalCluster(n_workers=dask_options_dict['n_workers'], \n",
    "                               threads_per_worker=dask_options_dict['threads_per_worker'], \n",
    "                               memory_limit=dask_options_dict['memory_limit']) # threads_per_worker=1 needed if using numba :(\n",
    "        self.client = Client(cluster)\n",
    "    def stop_local_cluster(self):\n",
    "        self.client.shutdown()\n",
    "        self.client=None\n",
    "\n",
    "def run_all(processors):\n",
    "    tasks=[dask.delayed(postpro.run_processor)(processor,dask_key_name=f'{processor.study.name}::{processor.location.name}/{processor.vartype.name}') for processor in processors]\n",
    "    dask.compute(tasks)\n",
    "    # to use only one processor. Also prints more helpful messages\n",
    "#     dask.compute(tasks, scheduler='single_threaded')"
   ]
  },
  {
   "cell_type": "code",
   "execution_count": null,
   "metadata": {
    "ExecuteTime": {
     "end_time": "2022-02-22T20:14:33.120235Z",
     "start_time": "2022-02-22T20:14:33.106297Z"
    }
   },
   "outputs": [],
   "source": [
    "c_link = None\n",
    "if use_dask:\n",
    "    cluster = DaskCluster()\n",
    "    cluster.start_local_cluster()\n",
    "    c_link = cluster.client\n",
    "c_link"
   ]
  },
  {
   "cell_type": "markdown",
   "metadata": {},
   "source": [
    "# Setup for EC, FLOW, STAGE"
   ]
  },
  {
   "cell_type": "code",
   "execution_count": null,
   "metadata": {
    "ExecuteTime": {
     "end_time": "2022-02-22T20:51:54.726468Z",
     "start_time": "2022-02-22T20:14:33.121231Z"
    }
   },
   "outputs": [],
   "source": [
    "try:\n",
    "    for vartype in vartype_dict:\n",
    "        if process_vartype_dict[vartype]:\n",
    "            print('processing observed ' + vartype + ' data')\n",
    "            dssfile = observed_files_dict[vartype]\n",
    "            location_file = location_files_dict[vartype]\n",
    "            # dssfile = './observed_data/cdec/ec_merged.dss'\n",
    "            # locationfile='./location_info/calibration_ec_stations.csv'\n",
    "            # units='uS/cm'\n",
    "            units = vartype_dict[vartype]\n",
    "            study_name='Observed'\n",
    "            observed=True\n",
    "            processors=postpro.build_processors(dssfile, location_file, vartype, units, study_name, observed)\n",
    "            if use_dask:\n",
    "                run_all(processors)\n",
    "            else:\n",
    "                for p in processors:\n",
    "                    postpro.run_processor(p)\n",
    "finally:\n",
    "    # Always shut down the cluster when done. \n",
    "    if use_dask:\n",
    "        cluster.stop_local_cluster()"
   ]
  }
 ],
 "metadata": {
  "kernelspec": {
   "display_name": "Python [conda env:dms_new]",
   "language": "python",
   "name": "conda-env-dms_new-py"
  },
  "language_info": {
   "codemirror_mode": {
    "name": "ipython",
    "version": 3
   },
   "file_extension": ".py",
   "mimetype": "text/x-python",
   "name": "python",
   "nbconvert_exporter": "python",
   "pygments_lexer": "ipython3",
   "version": "3.7.11"
  },
  "toc": {
   "base_numbering": 1,
   "nav_menu": {},
   "number_sections": true,
   "sideBar": true,
   "skip_h1_title": false,
   "title_cell": "Table of Contents",
   "title_sidebar": "Contents",
   "toc_cell": false,
   "toc_position": {},
   "toc_section_display": true,
   "toc_window_display": false
  },
  "varInspector": {
   "cols": {
    "lenName": 16,
    "lenType": 16,
    "lenVar": 40
   },
   "kernels_config": {
    "python": {
     "delete_cmd_postfix": "",
     "delete_cmd_prefix": "del ",
     "library": "var_list.py",
     "varRefreshCmd": "print(var_dic_list())"
    },
    "r": {
     "delete_cmd_postfix": ") ",
     "delete_cmd_prefix": "rm(",
     "library": "var_list.r",
     "varRefreshCmd": "cat(var_dic_list()) "
    }
   },
   "types_to_exclude": [
    "module",
    "function",
    "builtin_function_or_method",
    "instance",
    "_Feature"
   ],
   "window_display": false
  }
 },
 "nbformat": 4,
 "nbformat_minor": 4
}
