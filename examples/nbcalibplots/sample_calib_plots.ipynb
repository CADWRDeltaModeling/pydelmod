{
 "cells": [
  {
   "cell_type": "markdown",
   "metadata": {},
   "source": [
    "# Sample notebook for Model Calibration - Validation Plot Templates"
   ]
  },
  {
   "cell_type": "code",
   "execution_count": null,
   "metadata": {},
   "outputs": [],
   "source": [
    "import pydelmod\n",
    "import pydsm\n",
    "import pyhecdss\n",
    "\n",
    "from pydelmod import calibplot\n",
    "from pydsm import postpro"
   ]
  },
  {
   "cell_type": "code",
   "execution_count": null,
   "metadata": {},
   "outputs": [],
   "source": [
    "import hvplot.pandas\n",
    "import holoviews as hv\n",
    "from holoviews import opts\n",
    "\n",
    "from bokeh.themes.theme import Theme\n",
    "from bokeh.themes import built_in_themes\n",
    "#hv.renderer('bokeh').theme=built_in_themes['caliber']"
   ]
  },
  {
   "cell_type": "markdown",
   "metadata": {},
   "source": [
    "## Setup\n",
    "A setup consists of \"Observed\" and one or more \"Models\":\n",
    " * A study has a name and dssfile\n",
    " * A location has a name, a bpart and a description\n",
    " * A vartype has a name and units\n"
   ]
  },
  {
   "cell_type": "code",
   "execution_count": null,
   "metadata": {},
   "outputs": [],
   "source": [
    "obs_study=postpro.Study('Observed','data/sample_obs.dss')\n",
    "m1_study=postpro.Study('Model1','data/sample_model1.dss')\n",
    "m2_study=postpro.Study('Model2','data/sample_model2.dss')\n",
    "studies=[obs_study, m1_study, m2_study]\n",
    "\n",
    "location=postpro.Location('RSAN018','RSAN018','Jersey Pt Station')\n",
    "obs_location=postpro.Location('RSAN018','JER','Jersey Pt Station') # B part for observed is JER\n",
    "vartype=postpro.VarType('EC','mmhos/cm')"
   ]
  },
  {
   "cell_type": "code",
   "execution_count": null,
   "metadata": {},
   "outputs": [],
   "source": [
    "pp=[postpro.PostProcessor(study,location,vartype) for study in [m1_study,m2_study]]\n",
    "pp=[postpro.PostProcessor(obs_study,obs_location,vartype)]+pp"
   ]
  },
  {
   "cell_type": "markdown",
   "metadata": {},
   "source": [
    "## Postprocessor loading\n",
    "This notebook assumes the post processor has been run. Refer to the [./sample_calib_postpro.ipynb](./sample_calib_postpro.ipynb) for details"
   ]
  },
  {
   "cell_type": "code",
   "execution_count": null,
   "metadata": {},
   "outputs": [],
   "source": [
    "pp=[postpro.PostProcessor(study,location,vartype) for study in studies]\n",
    "for p in pp: p.load_processed()"
   ]
  },
  {
   "cell_type": "code",
   "execution_count": null,
   "metadata": {},
   "outputs": [],
   "source": [
    "def tsplot(dflist, names):\n",
    "    plt=[df.hvplot(label=name) if df is not None else hv.Curve(None,label=name) for df,name in zip(dflist,names)]\n",
    "    plt=[c.redim(**{c.vdims[0].name:c.label, c.kdims[0].name: 'Time'}) if c.name!='' else c for c in plt]\n",
    "    return hv.Overlay(plt)"
   ]
  },
  {
   "cell_type": "markdown",
   "metadata": {},
   "source": [
    "## Time series Plots"
   ]
  },
  {
   "cell_type": "code",
   "execution_count": null,
   "metadata": {},
   "outputs": [],
   "source": [
    "gridstyle={'grid_line_alpha':1,'grid_line_color':'lightgrey'}\n",
    "tsplot([p.df for p in pp],[p.study.name for p in pp]).opts(ylabel=f'{vartype.name} @ {location.name}',show_grid=True,gridstyle=gridstyle)"
   ]
  },
  {
   "cell_type": "code",
   "execution_count": null,
   "metadata": {},
   "outputs": [],
   "source": [
    "tsplot([p.gdf for p in pp],[p.study.name for p in pp]).opts(show_grid=True,gridstyle=gridstyle)"
   ]
  },
  {
   "cell_type": "markdown",
   "metadata": {},
   "source": [
    "### Sample case with a missing df (None)\n"
   ]
  },
  {
   "cell_type": "code",
   "execution_count": null,
   "metadata": {},
   "outputs": [],
   "source": [
    "dflist=[p.gdf for p in pp]\n",
    "dflist[0]=None\n",
    "tsplot(dflist,[p.study.name for p in pp]).opts(show_grid=True,gridstyle=gridstyle)"
   ]
  },
  {
   "cell_type": "code",
   "execution_count": null,
   "metadata": {},
   "outputs": [],
   "source": [
    "dflist=[p.gdf for p in pp]\n",
    "dflist[1]=None\n",
    "tsplot(dflist,[p.study.name for p in pp]).opts(show_grid=True,gridstyle=gridstyle)"
   ]
  },
  {
   "cell_type": "markdown",
   "metadata": {},
   "source": [
    "### How about line colors, styles, markers\n",
    "All those are opts with different arguments\n",
    "\n",
    "Set the opts on color for the curve with the predefined color cycles, e.g. Category20\n",
    "\n",
    "See http://holoviews.org/user_guide/Styling_Plots.html for other names"
   ]
  },
  {
   "cell_type": "code",
   "execution_count": null,
   "metadata": {},
   "outputs": [],
   "source": [
    "\n",
    "tsplot([p.gdf for p in pp],[p.study.name for p in pp]).opts(show_grid=True, gridstyle=gridstyle).opts(opts.Curve(color=hv.Cycle('Category20')))"
   ]
  },
  {
   "cell_type": "markdown",
   "metadata": {},
   "source": [
    "Set line style the same way\n"
   ]
  },
  {
   "cell_type": "code",
   "execution_count": null,
   "metadata": {},
   "outputs": [],
   "source": [
    "tsplot([p.gdf for p in pp],[p.study.name for p in pp]).opts(show_grid=True, gridstyle=gridstyle).opts(opts.Curve(line_dash=hv.Cycle(['solid','dashed','dotted','dotdash','dashdot'])))"
   ]
  },
  {
   "cell_type": "markdown",
   "metadata": {},
   "source": [
    "## Scatter Plots"
   ]
  },
  {
   "cell_type": "code",
   "execution_count": null,
   "metadata": {},
   "outputs": [],
   "source": [
    "import pandas as pd\n",
    "def scatterplot(dflist, names, index_x=0):\n",
    "    dfa=pd.concat(dflist, axis=0)\n",
    "    dfa.columns=names\n",
    "    dfa=dfa.resample('D').mean()\n",
    "    return dfa.hvplot.scatter(x=dfa.columns[index_x])"
   ]
  },
  {
   "cell_type": "code",
   "execution_count": null,
   "metadata": {},
   "outputs": [],
   "source": [
    "splot=scatterplot([p.gdf for p in pp], [p.study.name for p in pp])\n",
    "splot"
   ]
  },
  {
   "cell_type": "markdown",
   "metadata": {},
   "source": [
    "### Options can be set the same way as line plots\n",
    "\n",
    "Use hv.Cycle or predefined color cycles (see link above)"
   ]
  },
  {
   "cell_type": "code",
   "execution_count": null,
   "metadata": {},
   "outputs": [],
   "source": [
    "splot.opts(show_grid=True).opts(opts.Scatter(color=hv.Cycle('Category20')))"
   ]
  },
  {
   "cell_type": "code",
   "execution_count": null,
   "metadata": {},
   "outputs": [],
   "source": [
    "splot.opts(show_grid=True).opts(opts.Scatter(marker=hv.Cycle(['x', '^', '+'])))"
   ]
  },
  {
   "cell_type": "code",
   "execution_count": null,
   "metadata": {},
   "outputs": [],
   "source": [
    "from scipy import stats\n",
    "def regression_line_plots(dflist, index_x=0):\n",
    "    if index_x != 0:\n",
    "        raise \"Non zero index_x not implemented yet! Sorry.\"\n",
    "    dfa=pd.concat(dflist,axis=1)\n",
    "    dfa=dfa.dropna()\n",
    "    x_series=dfa.iloc[:,index_x]\n",
    "    slope_plots=None\n",
    "    equations=[]\n",
    "    for col in range(1,len(dflist)):\n",
    "        y_series=dfa.iloc[:,col]\n",
    "        slope, intercep, rval, pval, std = stats.linregress(x_series, y_series)\n",
    "        sign = '-' if intercep <= 0 else '+'\n",
    "        equation='y = %.4fx %s %.4f' % (slope, sign, abs(intercep))\n",
    "        equations.append(equation)\n",
    "        slope_plot = hv.Slope(slope,y_intercept=intercep)\n",
    "        slope_plots = slope_plot if slope_plots == None else slope_plots*slope_plot\n",
    "    return slope_plots, equations"
   ]
  },
  {
   "cell_type": "code",
   "execution_count": null,
   "metadata": {},
   "outputs": [],
   "source": [
    "slope_plots,equations=regression_line_plots([p.gdf for p in pp])"
   ]
  },
  {
   "cell_type": "code",
   "execution_count": null,
   "metadata": {},
   "outputs": [],
   "source": [
    "cplot=slope_plots.opts(opts.Slope(color=hv.Cycle('Category20')))*splot\n",
    "cplot"
   ]
  },
  {
   "cell_type": "markdown",
   "metadata": {},
   "source": [
    "## Kernel Density Estimate plots\n",
    "These plots are good to see distribution of values. E.g the distribution of the differences between two studies\n"
   ]
  },
  {
   "cell_type": "code",
   "execution_count": null,
   "metadata": {},
   "outputs": [],
   "source": [
    "def kdeplot(dflist, names, xlabel):\n",
    "    kdes=[df.hvplot.kde(label=name,xlabel=xlabel) for df,name in zip(dflist,names)]\n",
    "    return hv.Overlay(kdes)\n"
   ]
  },
  {
   "cell_type": "code",
   "execution_count": null,
   "metadata": {},
   "outputs": [],
   "source": [
    "dflist=[p.gdf.iloc[:,0]-pp[0].gdf.iloc[:,0] for p in pp[1:]]\n",
    "names=[p.study.name for p in pp[1:]]\n",
    "dist=kdeplot(dflist,names,'Godin Filtered Diff')\n",
    "dist"
   ]
  },
  {
   "cell_type": "markdown",
   "metadata": {},
   "source": [
    "Same options as Curve and Scatter apply and can be found opts.Distribution\n",
    "\n",
    "E.g. to use a different color scheme and line style and turn off filling"
   ]
  },
  {
   "cell_type": "code",
   "execution_count": null,
   "metadata": {},
   "outputs": [],
   "source": [
    "dist.opts(opts.Distribution(filled=False,line_color=hv.Cycle('Category20'), line_dash=hv.Cycle(['solid','dashed','dotted','dotdash'])))"
   ]
  },
  {
   "cell_type": "markdown",
   "metadata": {},
   "source": [
    "## Tidal Characteristic Plots\n",
    "\n",
    "Tidal amplitude and phase are important characteristics of a time signal in an Estuary. \n",
    "\n",
    "The tidal amplitude is the height between the previous low and next high. \n",
    "\n",
    "The tidal phase is the timing of these highs and lows and typically the difference between two tidal signals in more important in than the exact time of any one"
   ]
  },
  {
   "cell_type": "code",
   "execution_count": null,
   "metadata": {},
   "outputs": [],
   "source": [
    "def tidalplot(df,high,low,name):\n",
    "    h=high.hvplot.scatter(label='high').opts(marker='^')\n",
    "    l=low.hvplot.scatter(label='low').opts(marker='v')\n",
    "    o=df.hvplot.line(label=name)\n",
    "    plts=[h,l,o]\n",
    "    plts=[c.redim(**{c.vdims[0].name:c.label, c.kdims[0].name: 'Time'}) for c in plts]        \n",
    "    return hv.Overlay(plts)"
   ]
  },
  {
   "cell_type": "code",
   "execution_count": null,
   "metadata": {},
   "outputs": [],
   "source": [
    "tidalplot(pp[0].df,pp[0].high,pp[0].low,'Observed')"
   ]
  },
  {
   "cell_type": "markdown",
   "metadata": {},
   "source": [
    "## Process Difference\n",
    "\n",
    "Postpro objects have a process_diff method that calculates differences w.r.t to the passed other postpro.\n",
    "\n",
    "In this case we do differences of phase and amp w.r.t processor @ 0 index, i.e. Observed"
   ]
  },
  {
   "cell_type": "code",
   "execution_count": null,
   "metadata": {},
   "outputs": [],
   "source": [
    "for p in pp[1:]:\n",
    "    p.process_diff(pp[0])"
   ]
  },
  {
   "cell_type": "markdown",
   "metadata": {},
   "source": [
    "## Shifting color cycles\n",
    "Differences usually mean w.r.t the 0 indexed postprocessor (typically the Observed study). To keep colors consistent the method below allows the color cycle to be shifted"
   ]
  },
  {
   "cell_type": "code",
   "execution_count": null,
   "metadata": {},
   "outputs": [],
   "source": [
    "def shift_cycle(cycle):\n",
    "    v=cycle.values\n",
    "    v.append(v.pop(0))\n",
    "    return hv.Cycle(v)"
   ]
  },
  {
   "cell_type": "markdown",
   "metadata": {},
   "source": [
    "## Amplitude Difference KDE Plots"
   ]
  },
  {
   "cell_type": "code",
   "execution_count": null,
   "metadata": {},
   "outputs": [],
   "source": [
    "amp_diff_kde=kdeplot([p.amp_diff for p in pp[1:]],[p.study.name for p in pp[1:]],'Amplitude Diff')\n",
    "amp_diff_kde.opts(opts.Distribution(color=shift_cycle(hv.Cycle('Category10'))))"
   ]
  },
  {
   "cell_type": "markdown",
   "metadata": {},
   "source": [
    "## Amplitude Percent Difference KDE Plots"
   ]
  },
  {
   "cell_type": "code",
   "execution_count": null,
   "metadata": {},
   "outputs": [],
   "source": [
    "amp_pdiff_kde=kdeplot([p.amp_diff_pct for p in pp[1:]],[p.study.name for p in pp[1:]],'Amplitude Diff (%)')\n",
    "amp_pdiff_kde.opts(opts.Distribution(color=shift_cycle(hv.Cycle('Category10'))))"
   ]
  },
  {
   "cell_type": "markdown",
   "metadata": {},
   "source": [
    "\n",
    "## Phase Difference KDE Plots"
   ]
  },
  {
   "cell_type": "code",
   "execution_count": null,
   "metadata": {},
   "outputs": [],
   "source": [
    "phase_diff_kde=kdeplot([p.phase_diff for p in pp[1:]],[p.study.name for p in pp[1:]],'Phase Diff (minutes)')\n",
    "phase_diff_kde.opts(opts.Distribution(line_color=shift_cycle(hv.Cycle('Category20')), filled=False))"
   ]
  }
 ],
 "metadata": {
  "kernelspec": {
   "display_name": "Python [conda env:dev_pydelmod]",
   "language": "python",
   "name": "conda-env-dev_pydelmod-py"
  },
  "language_info": {
   "codemirror_mode": {
    "name": "ipython",
    "version": 3
   },
   "file_extension": ".py",
   "mimetype": "text/x-python",
   "name": "python",
   "nbconvert_exporter": "python",
   "pygments_lexer": "ipython3",
   "version": "3.7.9"
  },
  "toc": {
   "base_numbering": 1,
   "nav_menu": {},
   "number_sections": true,
   "sideBar": true,
   "skip_h1_title": false,
   "title_cell": "Table of Contents",
   "title_sidebar": "Contents",
   "toc_cell": false,
   "toc_position": {},
   "toc_section_display": true,
   "toc_window_display": false
  }
 },
 "nbformat": 4,
 "nbformat_minor": 4
}
