{
 "cells": [
  {
   "cell_type": "code",
   "execution_count": null,
   "metadata": {},
   "outputs": [],
   "source": [
    "import pydsm\n",
    "from pydsm import postpro"
   ]
  },
  {
   "cell_type": "markdown",
   "metadata": {},
   "source": [
    "# Dask related functions"
   ]
  },
  {
   "cell_type": "code",
   "execution_count": null,
   "metadata": {},
   "outputs": [],
   "source": [
    "use_dask=False\n",
    "\n",
    "import dask\n",
    "from dask.distributed import Client, LocalCluster\n",
    "\n",
    "class DaskCluster:\n",
    "    def __init__(self):\n",
    "        self.client=None\n",
    "    def start_local_cluster(self):\n",
    "        cluster = LocalCluster(n_workers=8, threads_per_worker=1, memory_limit='6G') # threads_per_worker=1 needed if using numba :(\n",
    "        self.client = Client(cluster)\n",
    "    def stop_local_cluster(self):\n",
    "        self.client.shutdown()\n",
    "        self.client=None"
   ]
  },
  {
   "cell_type": "code",
   "execution_count": null,
   "metadata": {},
   "outputs": [],
   "source": [
    "if use_dask:\n",
    "    cluster = DaskCluster()\n",
    "    cluster.start_local_cluster()\n",
    "    cluster.client"
   ]
  },
  {
   "cell_type": "code",
   "execution_count": null,
   "metadata": {},
   "outputs": [],
   "source": [
    "def run_all(processors):\n",
    "    tasks=[dask.delayed(postpro.run_processor)(processor,dask_key_name=f'{processor.study.name}::{processor.location.name}/{processor.vartype.name}') for processor in processors]\n",
    "    dask.compute(tasks)"
   ]
  },
  {
   "cell_type": "code",
   "execution_count": null,
   "metadata": {},
   "outputs": [],
   "source": [
    "base_dir='e:/dsm2v82_calibration/'\n",
    "model_output_dir='output/'\n",
    "study_file_map = {'DCD': base_dir+'BaselineRun/DSM2_DCD/'+model_output_dir+'historical_v81_DCD.dss',\n",
    "                  'DCD1.2 SMCD': base_dir+'BaselineRun/DSM2_DCD1.2_SMCD/'+model_output_dir+'historical_v82b1.dss',\n",
    "                  'DCD1.2 SMCD_last3': base_dir+'CalibrationRuns/last/DSM2_DCD1.2_SMCD_last3bin/'+model_output_dir+'historical_v82b1.dss',\n",
    "                  'DICU': base_dir+'BaselineRun/DSM2_DICU/'+model_output_dir+'historical_v81_DICU.dss'}"
   ]
  },
  {
   "cell_type": "markdown",
   "metadata": {},
   "source": [
    "# Setup for EC"
   ]
  },
  {
   "cell_type": "code",
   "execution_count": null,
   "metadata": {},
   "outputs": [],
   "source": [
    "for study_name in study_file_map:\n",
    "    dssfile=study_file_map[study_name]\n",
    "    locationfile='e:/dsm2v82_calibration/LocationInfo/calibration_ec_stations.csv'\n",
    "    vartype='EC'\n",
    "    units='mmhos/cm'\n",
    "    observed=False\n",
    "    processors=postpro.build_processors(dssfile, locationfile, vartype, units, study_name, observed)\n",
    "    print(f'Processing {vartype} for study: {study_name}')\n",
    "    run_all(processors)\n",
    "    if use_dask:\n",
    "        run_all(processors)\n",
    "    else:\n",
    "        for p in processors:\n",
    "           postpro.run_processor(p)"
   ]
  },
  {
   "cell_type": "markdown",
   "metadata": {},
   "source": [
    "# Setup for FLOW"
   ]
  },
  {
   "cell_type": "code",
   "execution_count": 1,
   "metadata": {},
   "outputs": [
    {
     "ename": "NameError",
     "evalue": "name 'study_file_map' is not defined",
     "output_type": "error",
     "traceback": [
      "\u001b[1;31m---------------------------------------------------------------------------\u001b[0m",
      "\u001b[1;31mNameError\u001b[0m                                 Traceback (most recent call last)",
      "\u001b[1;32m<ipython-input-1-c9b5a396daf3>\u001b[0m in \u001b[0;36m<module>\u001b[1;34m\u001b[0m\n\u001b[1;32m----> 1\u001b[1;33m \u001b[1;32mfor\u001b[0m \u001b[0mstudy_name\u001b[0m \u001b[1;32min\u001b[0m \u001b[0mstudy_file_map\u001b[0m\u001b[1;33m:\u001b[0m\u001b[1;33m\u001b[0m\u001b[1;33m\u001b[0m\u001b[0m\n\u001b[0m\u001b[0;32m      2\u001b[0m     \u001b[0mdssfile\u001b[0m\u001b[1;33m=\u001b[0m\u001b[0mstudy_file_map\u001b[0m\u001b[1;33m[\u001b[0m\u001b[0mstudy_name\u001b[0m\u001b[1;33m]\u001b[0m\u001b[1;33m\u001b[0m\u001b[1;33m\u001b[0m\u001b[0m\n\u001b[0;32m      3\u001b[0m     \u001b[0mlocationfile\u001b[0m\u001b[1;33m=\u001b[0m\u001b[1;34m'e:/dsm2v82_calibration/LocationInfo/calibration_flow_stations.csv'\u001b[0m\u001b[1;33m\u001b[0m\u001b[1;33m\u001b[0m\u001b[0m\n\u001b[0;32m      4\u001b[0m     \u001b[0mvartype\u001b[0m\u001b[1;33m=\u001b[0m\u001b[1;34m'FLOW'\u001b[0m\u001b[1;33m\u001b[0m\u001b[1;33m\u001b[0m\u001b[0m\n\u001b[0;32m      5\u001b[0m     \u001b[0munits\u001b[0m\u001b[1;33m=\u001b[0m\u001b[1;34m'cfs'\u001b[0m\u001b[1;33m\u001b[0m\u001b[1;33m\u001b[0m\u001b[0m\n",
      "\u001b[1;31mNameError\u001b[0m: name 'study_file_map' is not defined"
     ]
    }
   ],
   "source": [
    "for study_name in study_file_map:    \n",
    "    dssfile=study_file_map[study_name]\n",
    "    locationfile='e:/dsm2v82_calibration/LocationInfo/calibration_flow_stations.csv'\n",
    "    vartype='FLOW'\n",
    "    units='cfs'\n",
    "    observed=False\n",
    "    processors=postpro.build_processors(dssfile, locationfile, vartype, units, study_name, observed)\n",
    "    run_all(processors)\n",
    "    if use_dask:\n",
    "        run_all(processors)\n",
    "    else:\n",
    "        for p in processors:\n",
    "           postpro.run_processor(p)"
   ]
  },
  {
   "cell_type": "markdown",
   "metadata": {},
   "source": [
    "# Setup for STAGE"
   ]
  },
  {
   "cell_type": "code",
   "execution_count": null,
   "metadata": {},
   "outputs": [],
   "source": [
    "for study_name in study_file_map:    \n",
    "    dssfile=study_file_map[study_name]\n",
    "    locationfile='e:/dsm2v82_calibration/LocationInfo/calibration_stage_stations.csv'\n",
    "    vartype='STAGE'\n",
    "    units='feet'\n",
    "    observed=False\n",
    "    processors=postpro.build_processors(dssfile, locationfile, vartype, units, study_name, observed)\n",
    "    run_all(processors)\n",
    "    if use_dask:\n",
    "        run_all(processors)\n",
    "    else:\n",
    "        for p in processors:\n",
    "           postpro.run_processor(p)"
   ]
  },
  {
   "cell_type": "code",
   "execution_count": null,
   "metadata": {},
   "outputs": [],
   "source": [
    "if use_dask:\n",
    "    cluster.stop_local_cluster()"
   ]
  }
 ],
 "metadata": {
  "kernelspec": {
   "display_name": "Python [conda env:dev_pydelmod]",
   "language": "python",
   "name": "conda-env-dev_pydelmod-py"
  },
  "language_info": {
   "codemirror_mode": {
    "name": "ipython",
    "version": 3
   },
   "file_extension": ".py",
   "mimetype": "text/x-python",
   "name": "python",
   "nbconvert_exporter": "python",
   "pygments_lexer": "ipython3",
   "version": "3.7.10"
  },
  "toc": {
   "base_numbering": 1,
   "nav_menu": {},
   "number_sections": true,
   "sideBar": true,
   "skip_h1_title": false,
   "title_cell": "Table of Contents",
   "title_sidebar": "Contents",
   "toc_cell": false,
   "toc_position": {},
   "toc_section_display": true,
   "toc_window_display": false
  },
  "varInspector": {
   "cols": {
    "lenName": 16,
    "lenType": 16,
    "lenVar": 40
   },
   "kernels_config": {
    "python": {
     "delete_cmd_postfix": "",
     "delete_cmd_prefix": "del ",
     "library": "var_list.py",
     "varRefreshCmd": "print(var_dic_list())"
    },
    "r": {
     "delete_cmd_postfix": ") ",
     "delete_cmd_prefix": "rm(",
     "library": "var_list.r",
     "varRefreshCmd": "cat(var_dic_list()) "
    }
   },
   "types_to_exclude": [
    "module",
    "function",
    "builtin_function_or_method",
    "instance",
    "_Feature"
   ],
   "window_display": false
  }
 },
 "nbformat": 4,
 "nbformat_minor": 4
}
