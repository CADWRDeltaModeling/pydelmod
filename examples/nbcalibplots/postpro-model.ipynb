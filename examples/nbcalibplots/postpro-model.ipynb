{
 "cells": [
  {
   "cell_type": "markdown",
   "metadata": {},
   "source": [
    "# Postpro-Model"
   ]
  },
  {
   "cell_type": "code",
   "execution_count": null,
   "metadata": {
    "ExecuteTime": {
     "end_time": "2022-02-23T23:17:55.263183Z",
     "start_time": "2022-02-23T23:17:55.245261Z"
    }
   },
   "outputs": [],
   "source": [
    "import pydsm\n",
    "from pydsm import postpro"
   ]
  },
  {
   "cell_type": "markdown",
   "metadata": {},
   "source": [
    "# Dask related functions"
   ]
  },
  {
   "cell_type": "code",
   "execution_count": null,
   "metadata": {
    "ExecuteTime": {
     "end_time": "2022-02-23T23:17:55.278120Z",
     "start_time": "2022-02-23T23:17:55.265174Z"
    }
   },
   "outputs": [],
   "source": [
    "# read config file\n",
    "import json\n",
    "config_filename = 'postpro_config.json'\n",
    "f = open(config_filename)\n",
    "data = json.load(f)\n",
    "vartype_dict = data['vartype_dict']\n",
    "process_vartype_dict = data['process_vartype_dict']\n",
    "dask_options_dict = data['dask_options_dict']\n",
    "location_files_dict = data['location_files_dict']\n",
    "observed_files_dict = data['observed_files_dict']\n",
    "study_files_dict = data['study_files_dict']"
   ]
  },
  {
   "cell_type": "code",
   "execution_count": null,
   "metadata": {
    "ExecuteTime": {
     "end_time": "2022-02-23T23:17:55.294047Z",
     "start_time": "2022-02-23T23:17:55.280108Z"
    }
   },
   "outputs": [],
   "source": [
    "# dask is a parallel processing library. Using it will save a lot of time, but error \n",
    "# messages will not be as helpful, so set to False for debugging. \n",
    "# Another option is to set scheduler (below) to single_threaded\n",
    "# use_dask = dask_options_dict['use_dask']\n",
    "# until we get dask working with DSS write processes, for now, override the value in the config file\n",
    "use_dask=False"
   ]
  },
  {
   "cell_type": "code",
   "execution_count": null,
   "metadata": {
    "ExecuteTime": {
     "end_time": "2022-02-23T23:17:55.308981Z",
     "start_time": "2022-02-23T23:17:55.296038Z"
    }
   },
   "outputs": [],
   "source": [
    "import dask\n",
    "from dask.distributed import Client, LocalCluster\n",
    "\n",
    "class DaskCluster:\n",
    "    def __init__(self):\n",
    "        self.client=None\n",
    "    def start_local_cluster(self):\n",
    "        cluster = LocalCluster(n_workers=dask_options_dict['n_workers'], \n",
    "                       threads_per_worker=dask_options_dict['threads_per_worker'], \n",
    "                       memory_limit=dask_options_dict['memory_limit']) # threads_per_worker=1 needed if using numba :(\n",
    "        self.client = Client(cluster)\n",
    "    def stop_local_cluster(self):\n",
    "        self.client.shutdown()\n",
    "        self.client=None"
   ]
  },
  {
   "cell_type": "code",
   "execution_count": null,
   "metadata": {
    "ExecuteTime": {
     "end_time": "2022-02-23T23:17:55.323916Z",
     "start_time": "2022-02-23T23:17:55.309977Z"
    }
   },
   "outputs": [],
   "source": [
    "def run_all(processors):\n",
    "    tasks=[dask.delayed(postpro.run_processor)(processor,dask_key_name=f'{processor.study.name}::{processor.location.name}/{processor.vartype.name}') for processor in processors]\n",
    "    dask.compute(tasks)\n",
    "    # to use only one processor. Also prints more helpful messages\n",
    "    #     dask.compute(tasks, scheduler='single-threaded')"
   ]
  },
  {
   "cell_type": "code",
   "execution_count": null,
   "metadata": {
    "ExecuteTime": {
     "end_time": "2022-02-23T23:17:55.339845Z",
     "start_time": "2022-02-23T23:17:55.324912Z"
    }
   },
   "outputs": [],
   "source": [
    "c_link = None\n",
    "if use_dask:\n",
    "    cluster = DaskCluster()\n",
    "    cluster.start_local_cluster()\n",
    "    cluster.client\n",
    "c_link"
   ]
  },
  {
   "cell_type": "markdown",
   "metadata": {},
   "source": [
    "# Setup for EC, FLOW, STAGE"
   ]
  },
  {
   "cell_type": "code",
   "execution_count": null,
   "metadata": {
    "ExecuteTime": {
     "end_time": "2022-02-23T23:17:55.355775Z",
     "start_time": "2022-02-23T23:17:55.340841Z"
    }
   },
   "outputs": [],
   "source": [
    "#import logging\n",
    "#logging.basicConfig(filename='postpro-model.log', level=logging.DEBUG)"
   ]
  },
  {
   "cell_type": "code",
   "execution_count": null,
   "metadata": {
    "ExecuteTime": {
     "end_time": "2022-02-23T23:36:25.587123Z",
     "start_time": "2022-02-23T23:17:55.356771Z"
    },
    "scrolled": false
   },
   "outputs": [],
   "source": [
    "try:\n",
    "    for var_name in vartype_dict:\n",
    "        vartype = postpro.VarType(var_name, vartype_dict[var_name])\n",
    "        if process_vartype_dict[vartype.name]:\n",
    "            print('processing model ' + vartype.name + ' data')\n",
    "            for study_name in study_files_dict:\n",
    "                dssfile=study_files_dict[study_name]\n",
    "                locationfile = location_files_dict[vartype.name]\n",
    "                units=vartype.units\n",
    "                observed=False\n",
    "                processors=postpro.build_processors(dssfile, locationfile, vartype.name, units, study_name, observed)\n",
    "                print(f'Processing {vartype.name} for study: {study_name}')\n",
    "                if use_dask:\n",
    "                    run_all(processors)\n",
    "                else:\n",
    "                    for p in processors:\n",
    "                       postpro.run_processor(p)\n",
    "finally:\n",
    "    # Always shut down the cluster when done. \n",
    "    if use_dask:\n",
    "        cluster.stop_local_cluster()"
   ]
  }
 ],
 "metadata": {
  "interpreter": {
   "hash": "bbdabb23ac04260d7d16650fd143713618a1cdd0c7a5bb38aafca3f244b2a072"
  },
  "kernelspec": {
   "display_name": "Python [conda env:dms_new]",
   "language": "python",
   "name": "conda-env-dms_new-py"
  },
  "language_info": {
   "codemirror_mode": {
    "name": "ipython",
    "version": 3
   },
   "file_extension": ".py",
   "mimetype": "text/x-python",
   "name": "python",
   "nbconvert_exporter": "python",
   "pygments_lexer": "ipython3",
   "version": "3.7.11"
  },
  "toc": {
   "base_numbering": 1,
   "nav_menu": {},
   "number_sections": true,
   "sideBar": true,
   "skip_h1_title": false,
   "title_cell": "Table of Contents",
   "title_sidebar": "Contents",
   "toc_cell": false,
   "toc_position": {},
   "toc_section_display": true,
   "toc_window_display": false
  },
  "varInspector": {
   "cols": {
    "lenName": 16,
    "lenType": 16,
    "lenVar": 40
   },
   "kernels_config": {
    "python": {
     "delete_cmd_postfix": "",
     "delete_cmd_prefix": "del ",
     "library": "var_list.py",
     "varRefreshCmd": "print(var_dic_list())"
    },
    "r": {
     "delete_cmd_postfix": ") ",
     "delete_cmd_prefix": "rm(",
     "library": "var_list.r",
     "varRefreshCmd": "cat(var_dic_list()) "
    }
   },
   "types_to_exclude": [
    "module",
    "function",
    "builtin_function_or_method",
    "instance",
    "_Feature"
   ],
   "window_display": false
  }
 },
 "nbformat": 4,
 "nbformat_minor": 4
}
