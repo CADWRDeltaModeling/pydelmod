{
 "cells": [
  {
   "cell_type": "code",
   "execution_count": null,
   "metadata": {
    "scrolled": true
   },
   "outputs": [],
   "source": [
    "import pydsm\n",
    "from pydsm import postpro"
   ]
  },
  {
   "cell_type": "markdown",
   "metadata": {},
   "source": [
    "# Dask related functions\n",
    "Dask uses parallel processing, which will significantly reduce runtime.\n",
    "However, messages printed to stdout will not be displayed in the notebook.  \n",
    "This includes messages indicating that plots will not be created for        \n",
    "certain locations due to missing DSS data. These messages will be displayed \n",
    "in the conda prompt window. The use of dask with network drives is not      \n",
    "recommended--some processes may fail.                                       \n",
    "This notebook writes DSS files, which does not work in Windows when         \n",
    "using dask. It works well in Linux. use_dask is set to False by default.    \n",
    "If using Linux, setting use_dask to True will increase speed.               "
   ]
  },
  {
   "cell_type": "code",
   "execution_count": null,
   "metadata": {},
   "outputs": [],
   "source": [
    "# for Windows, should be False\n",
    "use_dask = False"
   ]
  },
  {
   "cell_type": "markdown",
   "metadata": {},
   "source": [
    "# Create Dask cluster"
   ]
  },
  {
   "cell_type": "code",
   "execution_count": null,
   "metadata": {},
   "outputs": [],
   "source": [
    "import dask\n",
    "from dask.distributed import Client, LocalCluster\n",
    "\n",
    "class DaskCluster:\n",
    "    def __init__(self):\n",
    "        self.client=None\n",
    "    def start_local_cluster(self):\n",
    "        cluster = LocalCluster(n_workers=8, threads_per_worker=1, memory_limit='6G') # threads_per_worker=1 needed if using numba :(\n",
    "        self.client = Client(cluster)\n",
    "    def stop_local_cluster(self):\n",
    "        self.client.shutdown()\n",
    "        self.client=None\n",
    "        \n",
    "def run_all(processors):\n",
    "    tasks=[dask.delayed(postpro.run_processor)(processor,dask_key_name=f'{processor.study.name}::{processor.location.name}/{processor.vartype.name}') for processor in processors]\n",
    "    if use_dask:\n",
    "        dask.compute(tasks)\n",
    "    else:\n",
    "        dask.compute(tasks, scheduler='single-threaded')"
   ]
  },
  {
   "cell_type": "markdown",
   "metadata": {},
   "source": [
    "# Start Dask cluster"
   ]
  },
  {
   "cell_type": "code",
   "execution_count": null,
   "metadata": {},
   "outputs": [],
   "source": [
    "cluster = DaskCluster()\n",
    "cluster.start_local_cluster()\n",
    "cluster.client"
   ]
  },
  {
   "cell_type": "markdown",
   "metadata": {},
   "source": [
    "# Specify input DSS files"
   ]
  },
  {
   "cell_type": "code",
   "execution_count": null,
   "metadata": {},
   "outputs": [],
   "source": [
    "study_file_map = {\n",
    "                'DSM2v8.2.0_noSMCD': './modelOutput/historical_v82b1.dss',\n",
    "                'DSM2v8.2.0_SMCD': './modelOutput/v8_2_0_cal_extTo2019_smcd/hist_v82_19.dss'\n",
    "                  }"
   ]
  },
  {
   "cell_type": "markdown",
   "metadata": {},
   "source": [
    "# Setup for EC"
   ]
  },
  {
   "cell_type": "code",
   "execution_count": null,
   "metadata": {
    "scrolled": true
   },
   "outputs": [],
   "source": [
    "for study_name in study_file_map:\n",
    "    dssfile=study_file_map[study_name]\n",
    "    locationfile='./LocationInfo/calibration_ec_stations.csv'\n",
    "    vartype='EC'\n",
    "    units='mmhos/cm'\n",
    "    observed=False\n",
    "    processors=postpro.build_processors(dssfile, locationfile, vartype, units, study_name, observed)\n",
    "    print(f'Processing {vartype} for study: {study_name}')\n",
    "    run_all(processors)"
   ]
  },
  {
   "cell_type": "markdown",
   "metadata": {},
   "source": [
    "# Setup for FLOW"
   ]
  },
  {
   "cell_type": "code",
   "execution_count": null,
   "metadata": {},
   "outputs": [],
   "source": [
    "for study_name in study_file_map:    \n",
    "    dssfile=study_file_map[study_name]\n",
    "    locationfile='./LocationInfo/calibration_flow_stations.csv'\n",
    "    vartype='FLOW'\n",
    "    units='cfs'\n",
    "    observed=False\n",
    "    processors=postpro.build_processors(dssfile, locationfile, vartype, units, study_name, observed)\n",
    "    run_all(processors)"
   ]
  },
  {
   "cell_type": "markdown",
   "metadata": {},
   "source": [
    "# Setup for STAGE"
   ]
  },
  {
   "cell_type": "code",
   "execution_count": null,
   "metadata": {},
   "outputs": [],
   "source": [
    "for study_name in study_file_map:    \n",
    "    dssfile=study_file_map[study_name]\n",
    "    locationfile='./LocationInfo/calibration_stage_stations.csv'\n",
    "    vartype='STAGE'\n",
    "    units='feet'\n",
    "    observed=False\n",
    "    processors=postpro.build_processors(dssfile, locationfile, vartype, units, study_name, observed)\n",
    "    run_all(processors)"
   ]
  },
  {
   "cell_type": "markdown",
   "metadata": {},
   "source": [
    "# Stop the Dask cluster. Make sure this always runs at end of processing."
   ]
  },
  {
   "cell_type": "code",
   "execution_count": null,
   "metadata": {},
   "outputs": [],
   "source": [
    "cluster.stop_local_cluster()"
   ]
  }
 ],
 "metadata": {
  "kernelspec": {
   "display_name": "Python [conda env:dev_pydelmod]",
   "language": "python",
   "name": "conda-env-dev_pydelmod-py"
  },
  "language_info": {
   "codemirror_mode": {
    "name": "ipython",
    "version": 3
   },
   "file_extension": ".py",
   "mimetype": "text/x-python",
   "name": "python",
   "nbconvert_exporter": "python",
   "pygments_lexer": "ipython3",
   "version": "3.7.10"
  },
  "toc": {
   "base_numbering": 1,
   "nav_menu": {},
   "number_sections": true,
   "sideBar": true,
   "skip_h1_title": false,
   "title_cell": "Table of Contents",
   "title_sidebar": "Contents",
   "toc_cell": false,
   "toc_position": {},
   "toc_section_display": true,
   "toc_window_display": false
  },
  "varInspector": {
   "cols": {
    "lenName": 16,
    "lenType": 16,
    "lenVar": 40
   },
   "kernels_config": {
    "python": {
     "delete_cmd_postfix": "",
     "delete_cmd_prefix": "del ",
     "library": "var_list.py",
     "varRefreshCmd": "print(var_dic_list())"
    },
    "r": {
     "delete_cmd_postfix": ") ",
     "delete_cmd_prefix": "rm(",
     "library": "var_list.r",
     "varRefreshCmd": "cat(var_dic_list()) "
    }
   },
   "types_to_exclude": [
    "module",
    "function",
    "builtin_function_or_method",
    "instance",
    "_Feature"
   ],
   "window_display": false
  }
 },
 "nbformat": 4,
 "nbformat_minor": 4
}
