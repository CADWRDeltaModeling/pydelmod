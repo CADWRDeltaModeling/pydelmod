{
 "cells": [
  {
   "cell_type": "markdown",
   "metadata": {},
   "source": [
    "# Create Bar charts of r^2 and %bias\n",
    "\n",
    "\n",
    "Required Inputs\n",
    "=============\n",
    "The 0_summary_statistics_XX.csv files created by postpro-plots.ipynb (where \"XX\" is \"EC\", \"Flow\", and \"Stage\")\n",
    "Outputs\n",
    "======\n",
    "0pbias_XX.png and 0r2_XX.png 0r2_pbias_comp.png, (where \"XX\" is \"EC\", \"Flow\", and \"Stage\"): individual bar charts comparing percent bias and r^2 values. \n",
    "0r2_pbias_comp.html and 0r2_pbias_comp.png: each file contains all of the percent bias and r^2 plots. In the HTML file, each plot has an x axis label for every location, even those for which there is no comparison. In the png file, each plot has an x axis label only for those locations with a comparison.\n",
    "Usage\n",
    "=====\n",
    "Run this notebook after running postpro-plots.ipynb."
   ]
  },
  {
   "cell_type": "code",
   "execution_count": null,
   "metadata": {
    "ExecuteTime": {
     "end_time": "2021-07-06T23:29:38.201626Z",
     "start_time": "2021-07-06T23:29:20.743198Z"
    }
   },
   "outputs": [],
   "source": [
    "import holoviews as hv\n",
    "import pandas as pd\n",
    "import panel as pn\n",
    "hv.extension('bokeh')\n",
    "\n",
    "output_files_dict = {'EC': './0_summary_statistics_EC.csv',\n",
    "                     'Flow': './0_summary_statistics_FLOW.csv',\n",
    "                     'Stage': './0_summary_statistics_STAGE.csv'}\n",
    "layout = hv.Layout\n",
    "plot_list = []\n",
    "for f in output_files_dict:\n",
    "    const_name = f\n",
    "#         all_loc_metrics_df = pd.read_csv(temp_files[f])\n",
    "    all_loc_metrics_df = pd.read_csv(output_files_dict[f])\n",
    "    r2_df = all_loc_metrics_df[['Location', 'DSM2 Run', 'R Squared']]\n",
    "    pbias_df = all_loc_metrics_df[['Location', 'DSM2 Run', 'PBIAS']]\n",
    "    r2_bars = hv.Bars(r2_df, kdims=['Location', 'DSM2 Run']).opts(\n",
    "        title='R Squared, %s,\\nDSM2 v8.2.0 vs DSM2 v8.1.2' % const_name, \n",
    "        width=900, height=500, xrotation=90, multi_level=False, legend_position='right')\n",
    "    pbias_bars = hv.Bars(pbias_df, kdims=['Location', 'DSM2 Run']).opts(\n",
    "        title='Percent Bias, %s,\\nDSM2 v8.2.0 vs DSM2 v8.1.2' % const_name, \n",
    "        width=900, height=500, xrotation=90, multi_level=False, legend_position='right')\n",
    "    plot_list.append(r2_bars)\n",
    "    plot_list.append(pbias_bars)\n",
    "    print('saving')\n",
    "    hv.save(r2_bars, '0r2_%s' % f, fmt='png')\n",
    "    hv.save(pbias_bars, '0pbias_%s' % f, fmt='png')\n",
    "layout = hv.Layout(plot_list).cols(2)\n",
    "hv.save(layout, '0r2_pbias_comp.png', fmt='png')\n",
    "hv.save(layout, '0r2_pbias_comp.html', fmt='html')"
   ]
  }
 ],
 "metadata": {
  "kernelspec": {
   "display_name": "Python [conda env:dev_pydelmod]",
   "language": "python",
   "name": "conda-env-dev_pydelmod-py"
  },
  "language_info": {
   "codemirror_mode": {
    "name": "ipython",
    "version": 3
   },
   "file_extension": ".py",
   "mimetype": "text/x-python",
   "name": "python",
   "nbconvert_exporter": "python",
   "pygments_lexer": "ipython3",
   "version": "3.7.10"
  },
  "varInspector": {
   "cols": {
    "lenName": 16,
    "lenType": 16,
    "lenVar": 40
   },
   "kernels_config": {
    "python": {
     "delete_cmd_postfix": "",
     "delete_cmd_prefix": "del ",
     "library": "var_list.py",
     "varRefreshCmd": "print(var_dic_list())"
    },
    "r": {
     "delete_cmd_postfix": ") ",
     "delete_cmd_prefix": "rm(",
     "library": "var_list.r",
     "varRefreshCmd": "cat(var_dic_list()) "
    }
   },
   "types_to_exclude": [
    "module",
    "function",
    "builtin_function_or_method",
    "instance",
    "_Feature"
   ],
   "window_display": false
  }
 },
 "nbformat": 4,
 "nbformat_minor": 4
}
